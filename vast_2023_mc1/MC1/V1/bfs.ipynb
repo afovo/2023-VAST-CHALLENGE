{
 "cells": [
  {
   "cell_type": "code",
   "execution_count": 6,
   "metadata": {},
   "outputs": [],
   "source": [
    "import itertools\n",
    "import sys\n",
    "from heapq import *\n",
    "import json\n",
    "import numpy as np\n",
    "import pandas as pd\n",
    "from collections import deque"
   ]
  },
  {
   "cell_type": "code",
   "execution_count": 7,
   "metadata": {},
   "outputs": [],
   "source": [
    "# 读取weakly connected component.json\n",
    "with open('../../../技术储备/Tarjan/weakly connected component.json', \"r\", encoding='utf-8') as r:\n",
    "    wcc = json.loads(r.read())\n",
    "wcc=np.array(wcc)\n",
    "wcc.squeeze()\n",
    "wcc.shape\n",
    "biggest_wcc=wcc[0]\n",
    "biggest_wcc_com=biggest_wcc['component']\n",
    "# biggest_wcc_com\n"
   ]
  },
  {
   "cell_type": "code",
   "execution_count": 8,
   "metadata": {},
   "outputs": [
    {
     "name": "stdout",
     "output_type": "stream",
     "text": [
      "3151\n",
      "True\n"
     ]
    }
   ],
   "source": [
    "print(len(biggest_wcc_com))\n",
    "print(\"8327\" in biggest_wcc_com)"
   ]
  },
  {
   "cell_type": "code",
   "execution_count": 9,
   "metadata": {},
   "outputs": [],
   "source": [
    "v1=json.load(open('../../mc1_vis_system/public/MC1.json'))\n",
    "# merged_info=pd.read_csv('../V1/merged_info.csv')\n",
    "nodes_df=pd.DataFrame(v1['nodes'])\n",
    "links_df=pd.DataFrame(v1['links'])"
   ]
  },
  {
   "cell_type": "code",
   "execution_count": 10,
   "metadata": {},
   "outputs": [
    {
     "name": "stdout",
     "output_type": "stream",
     "text": [
      "<class 'pandas.core.frame.DataFrame'>\n",
      "Index: 9793 entries, 0 to 10746\n",
      "Data columns (total 4 columns):\n",
      " #   Column  Non-Null Count  Dtype  \n",
      "---  ------  --------------  -----  \n",
      " 0   source  9793 non-null   object \n",
      " 1   target  9793 non-null   object \n",
      " 2   type    9793 non-null   object \n",
      " 3   weight  9792 non-null   float64\n",
      "dtypes: float64(1), object(3)\n",
      "memory usage: 382.5+ KB\n"
     ]
    }
   ],
   "source": [
    "big_wcc_nodes=nodes_df[nodes_df['id'].isin(biggest_wcc_com)]\n",
    "big_wcc_links=links_df[(links_df['source'].isin(biggest_wcc_com)) & (links_df['target'].isin(biggest_wcc_com))]\n",
    "big_wcc_links.info()"
   ]
  },
  {
   "cell_type": "code",
   "execution_count": 11,
   "metadata": {},
   "outputs": [],
   "source": [
    "class Vertex:\n",
    "    def __init__(self, name):\n",
    "        self.key = name\n",
    "        self.neighbor = []\n",
    "        self.predecessor = None\n",
    "        self.pre_relationship = None\n",
    "\n",
    "    def add_neighbor(self, vertex_name):\n",
    "        self.neighbor.append(vertex_name)\n",
    "\n",
    "    def add_pre(self, pre, relationship):\n",
    "        self.predecessor = pre\n",
    "        self.pre_relationship = relationship\n"
   ]
  },
  {
   "cell_type": "code",
   "execution_count": 12,
   "metadata": {},
   "outputs": [],
   "source": [
    "def get_path(dst):\n",
    "    result_path = []\n",
    "    while dst.predecessor is not None:\n",
    "        result_path.append((dst.key,dst.pre_relationship.values[0]))\n",
    "        dst = dst.predecessor\n",
    "        # print(dst.key)\n",
    "    # result_path.append(dst.key)\n",
    "    return result_path\n",
    "\n",
    "def clear_pre(all_ver):\n",
    "    for ver in all_ver:\n",
    "        all_ver[ver].predecessor = None\n"
   ]
  },
  {
   "cell_type": "code",
   "execution_count": 13,
   "metadata": {},
   "outputs": [],
   "source": [
    "\n",
    "# def dijkstra(source, destination, all_vertices):\n",
    "    # path = {}\n",
    "    # counter = itertools.count()\n",
    "    # count_or = next(counter)\n",
    "    # heap = [(0, count_or, source)]\n",
    "    # heapify(heap)\n",
    "    # source.cost = 0\n",
    "    # visit = []\n",
    "\n",
    "    # while heap is not None:\n",
    "    #     # get the top vertex of the heap update its cost to neighbors\n",
    "    #     tmp_distance, tmp_order, tmp_vertex = heappop(heap)\n",
    "\n",
    "    #     if tmp_vertex == destination:\n",
    "    #         break\n",
    "\n",
    "    #     visit.append(tmp_vertex.key)\n",
    "    #     for neighbors in tmp_vertex.neighbor:\n",
    "    #         # neighbors:(name,key)\n",
    "    #         neighbor_name,neighbor_key=neighbors\n",
    "    #         if neighbor_name not in visit:\n",
    "    #             tmp_cost = tmp_distance + tmp_vertex.neighbor[neighbors]\n",
    "    #             if tmp_cost < all_vertices[neighbor_name].cost:\n",
    "    #                 relationship=big_wcc_links[(big_wcc_links['source']==tmp_vertex.key) & \n",
    "                                            #    (big_wcc_links['target']==neighbor_name)&\n",
    "                                            #    (big_wcc_links['key']==neighbor_key)]['type']\n",
    "                    # print(relationship)\n",
    "                    # all_vertices[neighbor_name].add_pre(tmp_vertex,relationship,neighbor_key)\n",
    "                    # all_vertices[neighbor_name].cost = tmp_cost\n",
    "                    # heappush(heap, (int(all_vertices[neighbor_name].cost), next(counter), all_vertices[neighbor_name]))\n",
    "\n",
    "def bfs(source,destination,all_vertices):\n",
    "    visited = [source]\n",
    "    queue = deque([source])\n",
    "        \n",
    "    while queue:\n",
    "        current_vertex = queue.popleft()\n",
    "        if current_vertex == destination:\n",
    "            return visited\n",
    "        for neighbor_key in current_vertex.neighbor:\n",
    "            # 放的是整个vertex，不是key\n",
    "            # print(type(neighbor_key))\n",
    "            neighbor_vertex = all_vertices[neighbor_key]\n",
    "            if neighbor_vertex not in visited:\n",
    "                neighbor_vertex = all_vertices[neighbor_key]\n",
    "                # print(neighbor_vertex.key,neighbor_vertex)\n",
    "                neighbor_vertex.predecessor = current_vertex\n",
    "                visited.append(neighbor_vertex)\n",
    "                queue.append(neighbor_vertex)\n",
    "                relationship=big_wcc_links[(big_wcc_links['source']==current_vertex.key) & \n",
    "                                               (big_wcc_links['target']==neighbor_vertex.key)]['type']\n",
    "                neighbor_vertex.add_pre(current_vertex,relationship)\n"
   ]
  },
  {
   "cell_type": "code",
   "execution_count": 14,
   "metadata": {},
   "outputs": [],
   "source": [
    "all_vertices = {}\n",
    "\n",
    "for nodes in big_wcc_nodes['id']:\n",
    "    all_vertices[nodes] = Vertex(nodes)\n",
    "    \n",
    "for links in big_wcc_links.iterrows():\n",
    "    # print(links[1]['source'],links[1]['weight'],links[1]['target'])\n",
    "    # print(links[1])\n",
    "    all_vertices[links[1]['source']].add_neighbor(links[1]['target'])\n",
    "    \n"
   ]
  },
  {
   "cell_type": "code",
   "execution_count": 15,
   "metadata": {},
   "outputs": [
    {
     "name": "stdout",
     "output_type": "stream",
     "text": [
      "1\n"
     ]
    }
   ],
   "source": [
    "for i in big_wcc_nodes['id']:\n",
    "    if i==\"8327\":\n",
    "        print(1)"
   ]
  },
  {
   "cell_type": "code",
   "execution_count": 16,
   "metadata": {},
   "outputs": [],
   "source": [
    "suspicious=[\"8327\",\"979893388\",\"Mar de la Vida OJSC\",\"Oceanfront Oasis Inc Carriers\"]\n",
    "scc_nodes=['dup77', 'water', 'Gulf', 'salmon', 'Plastic', '19', 'dup626', \n",
    "           '629', 'ocean', 'bottom', 'USS', 'PC', 'Oliver', 'HMS Montrose', \n",
    "           'Talleyâ\\x80\\x99s', 'Ships', 'trucking', 'Deepwater Horizon', 'Vessels']"
   ]
  },
  {
   "cell_type": "code",
   "execution_count": 17,
   "metadata": {},
   "outputs": [],
   "source": [
    "path_common_nodes={}\n",
    "all_path=[]\n",
    "with open('./bfs_scc_connection_to_sus2.txt','w') as f:\n",
    "    for i in  scc_nodes:\n",
    "        for j in suspicious:\n",
    "            all_path.append((i,j))\n",
    "            clear_pre(all_vertices)\n",
    "            # print(i,j)\n",
    "            bfs(all_vertices[i],\n",
    "                     all_vertices[j],all_vertices)\n",
    "            res=get_path(all_vertices[j])\n",
    "            f.write(i+\"->\"+j+'\\n')\n",
    "            f.write(i+\",\")\n",
    "            all_path.append(res)\n",
    "            for k in range(len(res)):\n",
    "                f.write(res[-k-1][1]+','+res[-k-1][0]+'\\n')\n",
    "                if k<len(res)-1:\n",
    "                    if res[-k-1][0] in path_common_nodes:\n",
    "                        path_common_nodes[res[-k-1][0]]+=1\n",
    "                    else:\n",
    "                        path_common_nodes[res[-k-1][0]]=1\n",
    "                # print(res[-k-1])\n",
    "            # print(\"----------------------\")\n",
    "            f.write(\"----------------------\\n\")"
   ]
  },
  {
   "cell_type": "code",
   "execution_count": 104,
   "metadata": {},
   "outputs": [],
   "source": [
    "all_path_reverse=[]\n",
    "sus3=[\"8327\",\"979893388\",\"Mar de la Vida OJSC\"]\n",
    "with open('./bfs_sus2ves.txt','w') as f:\n",
    "    for i in  scc_nodes:\n",
    "        for j in sus3:\n",
    "            all_path_reverse.append((j,i))\n",
    "            clear_pre(all_vertices)\n",
    "            # print(i,j)\n",
    "            bfs(all_vertices[j],\n",
    "                     all_vertices[i],all_vertices)\n",
    "            res=get_path(all_vertices[i])\n",
    "            f.write(j+\"->\"+i+'\\n')\n",
    "            f.write(j+\",\")\n",
    "            all_path_reverse.append(res)\n",
    "            for k in range(len(res)):\n",
    "                f.write(res[-k-1][1]+','+res[-k-1][0]+'\\n')\n",
    "                # print(res[-k-1])\n",
    "            # print(\"----------------------\")\n",
    "            f.write(\"----------------------\\n\")"
   ]
  },
  {
   "cell_type": "code",
   "execution_count": 18,
   "metadata": {},
   "outputs": [
    {
     "data": {
      "text/plain": [
       "(152,\n",
       " [('dup77', '8327'),\n",
       "  [('8327', 'membership'),\n",
       "   ('160', 'partnership'),\n",
       "   ('Erica Hamilton', 'membership'),\n",
       "   ('464454263', 'ownership'),\n",
       "   (\"Fisherman'sFriend Charter Boat S.A. de C.V. Freight \", 'partnership'),\n",
       "   ('dup38', 'membership')],\n",
       "  ('dup77', '979893388'),\n",
       "  [('979893388', 'ownership'),\n",
       "   ('Erica Hamilton', 'membership'),\n",
       "   ('464454263', 'ownership'),\n",
       "   (\"Fisherman'sFriend Charter Boat S.A. de C.V. Freight \", 'partnership'),\n",
       "   ('dup38', 'membership')],\n",
       "  ('dup77', 'Mar de la Vida OJSC'),\n",
       "  [('Mar de la Vida OJSC', 'membership'),\n",
       "   ('Ancla Azul Company Solutions', 'family_relationship'),\n",
       "   ('Faroe Islands Shrimp Shark', 'family_relationship'),\n",
       "   ('979893388', 'ownership'),\n",
       "   ('Erica Hamilton', 'membership'),\n",
       "   ('464454263', 'ownership'),\n",
       "   (\"Fisherman'sFriend Charter Boat S.A. de C.V. Freight \", 'partnership'),\n",
       "   ('dup38', 'membership')],\n",
       "  ('dup77', 'Oceanfront Oasis Inc Carriers'),\n",
       "  [('Oceanfront Oasis Inc Carriers', 'ownership'),\n",
       "   ('979893388', 'ownership'),\n",
       "   ('Erica Hamilton', 'membership'),\n",
       "   ('464454263', 'ownership'),\n",
       "   (\"Fisherman'sFriend Charter Boat S.A. de C.V. Freight \", 'partnership'),\n",
       "   ('dup38', 'membership')],\n",
       "  ('water', '8327'),\n",
       "  [('8327', 'membership'),\n",
       "   ('160', 'ownership'),\n",
       "   ('Spanish Shrimp  Carriers', 'family_relationship'),\n",
       "   ('7691', 'membership')],\n",
       "  ('water', '979893388'),\n",
       "  [('979893388', 'partnership'),\n",
       "   ('665', 'membership'),\n",
       "   ('Tshikwea Corp Marine sanctuary', 'partnership')],\n",
       "  ('water', 'Mar de la Vida OJSC'),\n",
       "  [('Mar de la Vida OJSC', 'membership'),\n",
       "   ('Ancla Azul Company Solutions', 'membership'),\n",
       "   ('Spanish Shrimp  Carriers', 'family_relationship'),\n",
       "   ('7691', 'membership')],\n",
       "  ('water', 'Oceanfront Oasis Inc Carriers'),\n",
       "  [('Oceanfront Oasis Inc Carriers', 'ownership'),\n",
       "   ('979893388', 'partnership'),\n",
       "   ('665', 'membership'),\n",
       "   ('Tshikwea Corp Marine sanctuary', 'partnership')],\n",
       "  ('Gulf', '8327'),\n",
       "  [('8327', 'membership'),\n",
       "   ('160', 'ownership'),\n",
       "   ('Ocean Fisheries Llc', 'ownership')],\n",
       "  ('Gulf', '979893388'),\n",
       "  [('979893388', 'ownership'), ('Ocean Fisheries Llc', 'ownership')],\n",
       "  ('Gulf', 'Mar de la Vida OJSC'),\n",
       "  [('Mar de la Vida OJSC', 'membership'),\n",
       "   ('Ancla Azul Company Solutions', 'membership'),\n",
       "   ('cefaf8b3-3aa2-4c59-b4aa-7974c8e1fe32', 'partnership'),\n",
       "   ('Christopher Cunningham', 'membership')],\n",
       "  ('Gulf', 'Oceanfront Oasis Inc Carriers'),\n",
       "  [('Oceanfront Oasis Inc Carriers', 'ownership'),\n",
       "   ('979893388', 'ownership'),\n",
       "   ('Ocean Fisheries Llc', 'ownership')],\n",
       "  ('salmon', '8327'),\n",
       "  [('8327', 'membership'),\n",
       "   ('160', 'ownership'),\n",
       "   ('903311212', 'membership'),\n",
       "   ('d5b94ebc-e03a-438e-872b-a15db349a748', 'ownership'),\n",
       "   ('George Ramirez', 'ownership')],\n",
       "  ('salmon', '979893388'),\n",
       "  [('979893388', 'family_relationship'),\n",
       "   ('903311212', 'membership'),\n",
       "   ('d5b94ebc-e03a-438e-872b-a15db349a748', 'ownership'),\n",
       "   ('George Ramirez', 'ownership')],\n",
       "  ('salmon', 'Mar de la Vida OJSC'),\n",
       "  [('Mar de la Vida OJSC', 'membership'),\n",
       "   ('Ancla Azul Company Solutions', 'membership'),\n",
       "   ('Spanish Shrimp  Carriers', 'family_relationship'),\n",
       "   ('903311212', 'membership'),\n",
       "   ('d5b94ebc-e03a-438e-872b-a15db349a748', 'ownership'),\n",
       "   ('George Ramirez', 'ownership')],\n",
       "  ('salmon', 'Oceanfront Oasis Inc Carriers'),\n",
       "  [('Oceanfront Oasis Inc Carriers', 'ownership'),\n",
       "   ('979893388', 'family_relationship'),\n",
       "   ('903311212', 'membership'),\n",
       "   ('d5b94ebc-e03a-438e-872b-a15db349a748', 'ownership'),\n",
       "   ('George Ramirez', 'ownership')],\n",
       "  ('Plastic', '8327'),\n",
       "  [('8327', 'membership'),\n",
       "   ('Today', 'ownership'),\n",
       "   ('Mar del Oeste Pic', 'ownership'),\n",
       "   ('Amanda Mckenzie', 'family_relationship'),\n",
       "   ('Amanda Andrews', 'family_relationship'),\n",
       "   ('John Conley', 'family_relationship'),\n",
       "   ('Daniel Middleton', 'partnership')],\n",
       "  ('Plastic', '979893388'),\n",
       "  [('979893388', 'partnership'),\n",
       "   ('Faroe Islands Shrimp Shark', 'membership'),\n",
       "   ('6780', 'membership'),\n",
       "   ('3129', 'ownership'),\n",
       "   ('Kerala Market Corp Consulting', 'partnership')],\n",
       "  ('Plastic', 'Mar de la Vida OJSC'),\n",
       "  [('Mar de la Vida OJSC', 'membership'),\n",
       "   ('Ancla Azul Company Solutions', 'family_relationship'),\n",
       "   ('Faroe Islands Shrimp Shark', 'membership'),\n",
       "   ('6780', 'membership'),\n",
       "   ('3129', 'ownership'),\n",
       "   ('Kerala Market Corp Consulting', 'partnership')],\n",
       "  ('Plastic', 'Oceanfront Oasis Inc Carriers'),\n",
       "  [('Oceanfront Oasis Inc Carriers', 'family_relationship'),\n",
       "   ('2262', 'ownership'),\n",
       "   ('3506021', 'partnership'),\n",
       "   ('6780', 'membership'),\n",
       "   ('3129', 'ownership'),\n",
       "   ('Kerala Market Corp Consulting', 'partnership')],\n",
       "  ('19', '8327'),\n",
       "  [('8327', 'membership'), ('160', 'ownership'), ('903311212', 'ownership')],\n",
       "  ('19', '979893388'),\n",
       "  [('979893388', 'membership'),\n",
       "   ('67a59fab-710a-4992-b6d0-d581fd9dceba', 'membership')],\n",
       "  ('19', 'Mar de la Vida OJSC'),\n",
       "  [('Mar de la Vida OJSC', 'membership'),\n",
       "   ('Ancla Azul Company Solutions', 'family_relationship'),\n",
       "   ('Faroe Islands Shrimp Shark', 'membership')],\n",
       "  ('19', 'Oceanfront Oasis Inc Carriers'),\n",
       "  [('Oceanfront Oasis Inc Carriers', 'ownership'),\n",
       "   ('979893388', 'membership'),\n",
       "   ('67a59fab-710a-4992-b6d0-d581fd9dceba', 'membership')],\n",
       "  ('dup626', '8327'),\n",
       "  [('8327', 'membership'),\n",
       "   ('7505050', 'family_relationship'),\n",
       "   ('b8567859-bf54-49fd-8332-5775e19c65af', 'membership'),\n",
       "   ('DOFâ\\x80\\x99s', 'membership')],\n",
       "  ('dup626', '979893388'),\n",
       "  [('979893388', 'membership'),\n",
       "   ('98332', 'partnership'),\n",
       "   ('DOFâ\\x80\\x99s', 'membership')],\n",
       "  ('dup626', 'Mar de la Vida OJSC'),\n",
       "  [('Mar de la Vida OJSC', 'membership'),\n",
       "   ('Ancla Azul Company Solutions', 'family_relationship'),\n",
       "   ('Faroe Islands Shrimp Shark', 'family_relationship'),\n",
       "   ('b8567859-bf54-49fd-8332-5775e19c65af', 'membership'),\n",
       "   ('DOFâ\\x80\\x99s', 'membership')],\n",
       "  ('dup626', 'Oceanfront Oasis Inc Carriers'),\n",
       "  [('Oceanfront Oasis Inc Carriers', 'ownership'),\n",
       "   ('979893388', 'membership'),\n",
       "   ('98332', 'partnership'),\n",
       "   ('DOFâ\\x80\\x99s', 'membership')],\n",
       "  ('629', '8327'),\n",
       "  [('8327', 'membership'),\n",
       "   ('Today', 'ownership'),\n",
       "   ('Mar del Oeste Pic', 'partnership'),\n",
       "   ('43685541', 'membership')],\n",
       "  ('629', '979893388'),\n",
       "  [('979893388', 'membership'),\n",
       "   ('Mar del Oeste Pic', 'partnership'),\n",
       "   ('43685541', 'membership')],\n",
       "  ('629', 'Mar de la Vida OJSC'),\n",
       "  [('Mar de la Vida OJSC', 'membership'),\n",
       "   ('Ancla Azul Company Solutions', 'membership'),\n",
       "   ('Spanish Shrimp  Carriers', 'family_relationship'),\n",
       "   ('7691', 'ownership'),\n",
       "   ('43685541', 'membership')],\n",
       "  ('629', 'Oceanfront Oasis Inc Carriers'),\n",
       "  [('Oceanfront Oasis Inc Carriers', 'ownership'),\n",
       "   ('979893388', 'membership'),\n",
       "   ('Mar del Oeste Pic', 'partnership'),\n",
       "   ('43685541', 'membership')],\n",
       "  ('ocean', '8327'),\n",
       "  [('8327', 'membership'),\n",
       "   ('7505050', 'ownership'),\n",
       "   ('png xi  Line', 'partnership')],\n",
       "  ('ocean', '979893388'),\n",
       "  [('979893388', 'membership'), ('png xi  Line', 'partnership')],\n",
       "  ('ocean', 'Mar de la Vida OJSC'),\n",
       "  [('Mar de la Vida OJSC', 'membership'),\n",
       "   ('Ancla Azul Company Solutions', 'family_relationship'),\n",
       "   ('Faroe Islands Shrimp Shark', 'membership'),\n",
       "   ('png xi  Line', 'partnership')],\n",
       "  ('ocean', 'Oceanfront Oasis Inc Carriers'),\n",
       "  [('Oceanfront Oasis Inc Carriers', 'family_relationship'),\n",
       "   ('2262', 'family_relationship'),\n",
       "   ('png xi  Line', 'partnership')],\n",
       "  ('bottom', '8327'),\n",
       "  [('8327', 'membership'),\n",
       "   ('Today', 'ownership'),\n",
       "   ('Mar del Oeste Pic', 'family_relationship'),\n",
       "   ('Estrella de Coral Ltd. Corporation Logistics', 'partnership'),\n",
       "   ('7670', 'membership')],\n",
       "  ('bottom', '979893388'),\n",
       "  [('979893388', 'partnership'),\n",
       "   ('Estrella de Coral Ltd. Corporation Logistics', 'partnership'),\n",
       "   ('7670', 'membership')],\n",
       "  ('bottom', 'Mar de la Vida OJSC'),\n",
       "  [('Mar de la Vida OJSC', 'membership'),\n",
       "   ('Ancla Azul Company Solutions', 'membership'),\n",
       "   ('cefaf8b3-3aa2-4c59-b4aa-7974c8e1fe32', 'partnership'),\n",
       "   ('Estrella de Coral Ltd. Corporation Logistics', 'partnership'),\n",
       "   ('7670', 'membership')],\n",
       "  ('bottom', 'Oceanfront Oasis Inc Carriers'),\n",
       "  [('Oceanfront Oasis Inc Carriers', 'ownership'),\n",
       "   ('979893388', 'partnership'),\n",
       "   ('Estrella de Coral Ltd. Corporation Logistics', 'partnership'),\n",
       "   ('7670', 'membership')],\n",
       "  ('USS', '8327'),\n",
       "  [('8327', 'membership'),\n",
       "   ('160', 'ownership'),\n",
       "   ('Ocean Fisheries Llc', 'ownership'),\n",
       "   ('Gulf', 'ownership')],\n",
       "  ('USS', '979893388'),\n",
       "  [('979893388', 'ownership'),\n",
       "   ('Ocean Fisheries Llc', 'ownership'),\n",
       "   ('Gulf', 'ownership')],\n",
       "  ('USS', 'Mar de la Vida OJSC'),\n",
       "  [('Mar de la Vida OJSC', 'membership'),\n",
       "   ('Ancla Azul Company Solutions', 'membership'),\n",
       "   ('cefaf8b3-3aa2-4c59-b4aa-7974c8e1fe32', 'partnership'),\n",
       "   ('Christopher Cunningham', 'membership'),\n",
       "   ('Gulf', 'ownership')],\n",
       "  ('USS', 'Oceanfront Oasis Inc Carriers'),\n",
       "  [('Oceanfront Oasis Inc Carriers', 'ownership'),\n",
       "   ('979893388', 'ownership'),\n",
       "   ('Ocean Fisheries Llc', 'ownership'),\n",
       "   ('Gulf', 'ownership')],\n",
       "  ('PC', '8327'),\n",
       "  [('8327', 'membership'),\n",
       "   ('160', 'ownership'),\n",
       "   ('903311212', 'membership'),\n",
       "   ('185040354', 'membership')],\n",
       "  ('PC', '979893388'),\n",
       "  [('979893388', 'family_relationship'),\n",
       "   ('4', 'partnership'),\n",
       "   ('185040354', 'membership')],\n",
       "  ('PC', 'Mar de la Vida OJSC'),\n",
       "  [('Mar de la Vida OJSC', 'membership'),\n",
       "   ('Ancla Azul Company Solutions', 'family_relationship'),\n",
       "   ('Faroe Islands Shrimp Shark', 'partnership'),\n",
       "   ('185040354', 'membership')],\n",
       "  ('PC', 'Oceanfront Oasis Inc Carriers'),\n",
       "  [('Oceanfront Oasis Inc Carriers', 'family_relationship'),\n",
       "   ('2262', 'ownership'),\n",
       "   ('185040354', 'membership')],\n",
       "  ('Oliver', '8327'),\n",
       "  [('8327', 'membership'),\n",
       "   ('160', 'ownership'),\n",
       "   ('Ocean Fisheries Llc', 'membership'),\n",
       "   ('Wendy Crane', 'partnership')],\n",
       "  ('Oliver', '979893388'),\n",
       "  [('979893388', 'membership'),\n",
       "   ('Abigail Foster', 'family_relationship'),\n",
       "   ('Wendy Crane', 'partnership')],\n",
       "  ('Oliver', 'Mar de la Vida OJSC'),\n",
       "  [('Mar de la Vida OJSC', 'membership'),\n",
       "   ('Ancla Azul Company Solutions', 'family_relationship'),\n",
       "   ('Faroe Islands Shrimp Shark', 'membership'),\n",
       "   ('Wendy Crane', 'partnership')],\n",
       "  ('Oliver', 'Oceanfront Oasis Inc Carriers'),\n",
       "  [('Oceanfront Oasis Inc Carriers', 'ownership'),\n",
       "   ('979893388', 'membership'),\n",
       "   ('Abigail Foster', 'family_relationship'),\n",
       "   ('Wendy Crane', 'partnership')],\n",
       "  ('HMS Montrose', '8327'),\n",
       "  [('8327', 'membership'),\n",
       "   ('7505050', 'family_relationship'),\n",
       "   ('b8567859-bf54-49fd-8332-5775e19c65af', 'ownership')],\n",
       "  ('HMS Montrose', '979893388'),\n",
       "  [('979893388', 'family_relationship'),\n",
       "   ('b8567859-bf54-49fd-8332-5775e19c65af', 'ownership')],\n",
       "  ('HMS Montrose', 'Mar de la Vida OJSC'),\n",
       "  [('Mar de la Vida OJSC', 'membership'),\n",
       "   ('Ancla Azul Company Solutions', 'family_relationship'),\n",
       "   ('Faroe Islands Shrimp Shark', 'family_relationship'),\n",
       "   ('b8567859-bf54-49fd-8332-5775e19c65af', 'ownership')],\n",
       "  ('HMS Montrose', 'Oceanfront Oasis Inc Carriers'),\n",
       "  [('Oceanfront Oasis Inc Carriers', 'family_relationship'),\n",
       "   ('2262', 'family_relationship'),\n",
       "   ('b8567859-bf54-49fd-8332-5775e19c65af', 'ownership')],\n",
       "  ('Talleyâ\\x80\\x99s', '8327'),\n",
       "  [('8327', 'membership'),\n",
       "   ('160', 'ownership'),\n",
       "   ('Ocean Fisheries Llc', 'membership')],\n",
       "  ('Talleyâ\\x80\\x99s', '979893388'),\n",
       "  [('979893388', 'ownership'), ('Ocean Fisheries Llc', 'membership')],\n",
       "  ('Talleyâ\\x80\\x99s', 'Mar de la Vida OJSC'),\n",
       "  [('Mar de la Vida OJSC', 'membership'),\n",
       "   ('Ancla Azul Company Solutions', 'family_relationship'),\n",
       "   ('Faroe Islands Shrimp Shark', 'family_relationship'),\n",
       "   ('Ocean Fisheries Llc', 'membership')],\n",
       "  ('Talleyâ\\x80\\x99s', 'Oceanfront Oasis Inc Carriers'),\n",
       "  [('Oceanfront Oasis Inc Carriers', 'ownership'),\n",
       "   ('979893388', 'ownership'),\n",
       "   ('Ocean Fisheries Llc', 'membership')],\n",
       "  ('Ships', '8327'),\n",
       "  [('8327', 'membership'),\n",
       "   ('160', 'ownership'),\n",
       "   ('Spanish Shrimp  Carriers', 'membership'),\n",
       "   ('341411', 'ownership'),\n",
       "   ('740111283', 'ownership'),\n",
       "   ('222079892', 'ownership')],\n",
       "  ('Ships', '979893388'),\n",
       "  [('979893388', 'partnership'),\n",
       "   ('Estrella de Coral Ltd. Corporation Logistics', 'membership'),\n",
       "   ('cefaf8b3-3aa2-4c59-b4aa-7974c8e1fe32', 'partnership'),\n",
       "   ('740111283', 'ownership'),\n",
       "   ('222079892', 'ownership')],\n",
       "  ('Ships', 'Mar de la Vida OJSC'),\n",
       "  [('Mar de la Vida OJSC', 'membership'),\n",
       "   ('Ancla Azul Company Solutions', 'membership'),\n",
       "   ('cefaf8b3-3aa2-4c59-b4aa-7974c8e1fe32', 'partnership'),\n",
       "   ('740111283', 'ownership'),\n",
       "   ('222079892', 'ownership')],\n",
       "  ('Ships', 'Oceanfront Oasis Inc Carriers'),\n",
       "  [('Oceanfront Oasis Inc Carriers', 'ownership'),\n",
       "   ('979893388', 'partnership'),\n",
       "   ('Estrella de Coral Ltd. Corporation Logistics', 'membership'),\n",
       "   ('cefaf8b3-3aa2-4c59-b4aa-7974c8e1fe32', 'partnership'),\n",
       "   ('740111283', 'ownership'),\n",
       "   ('222079892', 'ownership')],\n",
       "  ('trucking', '8327'),\n",
       "  [('8327', 'membership'),\n",
       "   ('160', 'ownership'),\n",
       "   ('Spanish Shrimp  Carriers', 'partnership'),\n",
       "   ('2262', 'family_relationship'),\n",
       "   ('425887173', 'family_relationship')],\n",
       "  ('trucking', '979893388'),\n",
       "  [('979893388', 'membership'),\n",
       "   ('Abigail Foster', 'family_relationship'),\n",
       "   ('2262', 'family_relationship'),\n",
       "   ('425887173', 'family_relationship')],\n",
       "  ('trucking', 'Mar de la Vida OJSC'),\n",
       "  [('Mar de la Vida OJSC', 'membership'),\n",
       "   ('Ancla Azul Company Solutions', 'membership'),\n",
       "   ('Spanish Shrimp  Carriers', 'partnership'),\n",
       "   ('2262', 'family_relationship'),\n",
       "   ('425887173', 'family_relationship')],\n",
       "  ('trucking', 'Oceanfront Oasis Inc Carriers'),\n",
       "  [('Oceanfront Oasis Inc Carriers', 'family_relationship'),\n",
       "   ('2262', 'family_relationship'),\n",
       "   ('425887173', 'family_relationship')],\n",
       "  ('Deepwater Horizon', '8327'),\n",
       "  [('8327', 'membership'),\n",
       "   ('160', 'ownership'),\n",
       "   ('Spanish Shrimp  Carriers', 'ownership'),\n",
       "   ('3506021', 'partnership'),\n",
       "   ('6780', 'membership'),\n",
       "   ('3129', 'ownership'),\n",
       "   ('Kerala Market Corp Consulting', 'partnership')],\n",
       "  ('Deepwater Horizon', '979893388'),\n",
       "  [('979893388', 'partnership'),\n",
       "   ('Faroe Islands Shrimp Shark', 'membership'),\n",
       "   ('6780', 'membership'),\n",
       "   ('3129', 'ownership'),\n",
       "   ('Kerala Market Corp Consulting', 'partnership')],\n",
       "  ('Deepwater Horizon', 'Mar de la Vida OJSC'),\n",
       "  [('Mar de la Vida OJSC', 'membership'),\n",
       "   ('Ancla Azul Company Solutions', 'family_relationship'),\n",
       "   ('Faroe Islands Shrimp Shark', 'membership'),\n",
       "   ('6780', 'membership'),\n",
       "   ('3129', 'ownership'),\n",
       "   ('Kerala Market Corp Consulting', 'partnership')],\n",
       "  ('Deepwater Horizon', 'Oceanfront Oasis Inc Carriers'),\n",
       "  [('Oceanfront Oasis Inc Carriers', 'family_relationship'),\n",
       "   ('2262', 'ownership'),\n",
       "   ('3506021', 'partnership'),\n",
       "   ('6780', 'membership'),\n",
       "   ('3129', 'ownership'),\n",
       "   ('Kerala Market Corp Consulting', 'partnership')],\n",
       "  ('Vessels', '8327'),\n",
       "  [('8327', 'membership'),\n",
       "   ('7505050', 'ownership'),\n",
       "   ('png xi  Line', 'partnership'),\n",
       "   ('Samuel Dunn', 'family_relationship'),\n",
       "   ('Daniel Chang', 'family_relationship'),\n",
       "   ('Angela Chang', 'partnership')],\n",
       "  ('Vessels', '979893388'),\n",
       "  [('979893388', 'membership'),\n",
       "   ('png xi  Line', 'partnership'),\n",
       "   ('Samuel Dunn', 'family_relationship'),\n",
       "   ('Daniel Chang', 'family_relationship'),\n",
       "   ('Angela Chang', 'partnership')],\n",
       "  ('Vessels', 'Mar de la Vida OJSC'),\n",
       "  [('Mar de la Vida OJSC', 'membership'),\n",
       "   ('Ancla Azul Company Solutions', 'family_relationship'),\n",
       "   ('Faroe Islands Shrimp Shark', 'membership'),\n",
       "   ('png xi  Line', 'partnership'),\n",
       "   ('Samuel Dunn', 'family_relationship'),\n",
       "   ('Daniel Chang', 'family_relationship'),\n",
       "   ('Angela Chang', 'partnership')],\n",
       "  ('Vessels', 'Oceanfront Oasis Inc Carriers'),\n",
       "  [('Oceanfront Oasis Inc Carriers', 'family_relationship'),\n",
       "   ('2262', 'family_relationship'),\n",
       "   ('png xi  Line', 'partnership'),\n",
       "   ('Samuel Dunn', 'family_relationship'),\n",
       "   ('Daniel Chang', 'family_relationship'),\n",
       "   ('Angela Chang', 'partnership')]])"
      ]
     },
     "execution_count": 18,
     "metadata": {},
     "output_type": "execute_result"
    }
   ],
   "source": [
    "len(all_path),all_path"
   ]
  },
  {
   "cell_type": "code",
   "execution_count": 19,
   "metadata": {},
   "outputs": [
    {
     "data": {
      "text/plain": [
       "50"
      ]
     },
     "execution_count": 19,
     "metadata": {},
     "output_type": "execute_result"
    }
   ],
   "source": [
    "# 对path_common_nodes按照value排序\n",
    "path_common_nodes=sorted(path_common_nodes.items(),key=lambda x:x[1],reverse=True)\n",
    "len(path_common_nodes)"
   ]
  },
  {
   "cell_type": "code",
   "execution_count": 20,
   "metadata": {},
   "outputs": [
    {
     "name": "stdout",
     "output_type": "stream",
     "text": [
      "dup77\n",
      "membership dup38\n",
      "partnership Fisherman'sFriend Charter Boat S.A. de C.V. Freight \n",
      "ownership 464454263\n",
      "membership Erica Hamilton\n",
      "partnership 160\n",
      "membership 8327\n"
     ]
    }
   ],
   "source": [
    "clear_pre(all_vertices)\n",
    "v=bfs(all_vertices[\"dup77\"],all_vertices[\"8327\"],all_vertices)\n",
    "# for ver in v:\n",
    "#     print(ver.key)\n",
    "res=get_path(all_vertices[\"8327\"])\n",
    "print(\"dup77\")\n",
    "for i in range(len(res)):\n",
    "    print(res[-i-1][1],res[-i-1][0])\n",
    "# print()\n",
    "# res\n"
   ]
  },
  {
   "cell_type": "code",
   "execution_count": 21,
   "metadata": {},
   "outputs": [
    {
     "name": "stdout",
     "output_type": "stream",
     "text": [
      "('Oceanfront Oasis Inc Carriers', 'ownership')\n"
     ]
    }
   ],
   "source": [
    "clear_pre(all_vertices)\n",
    "bfs(all_vertices[\"979893388\"],all_vertices[\"Oceanfront Oasis Inc Carriers\"],all_vertices)\n",
    "res=get_path(all_vertices[\"Oceanfront Oasis Inc Carriers\"])\n",
    "for i in range(len(res)):\n",
    "    print(res[-i-1])"
   ]
  },
  {
   "cell_type": "markdown",
   "metadata": {},
   "source": [
    "### 画图"
   ]
  },
  {
   "cell_type": "code",
   "execution_count": 85,
   "metadata": {},
   "outputs": [],
   "source": [
    "# nodes_each_path={}\n",
    "# nodes_each_path[\"8327\"]\n",
    "scc_nodes=['dup77', 'water', 'Gulf', 'salmon', 'Plastic', '19', 'dup626', \n",
    "           '629', 'ocean', 'bottom', 'USS', 'PC', 'Oliver', 'HMS Montrose', \n",
    "           'Talleyâ\\x80\\x99s', 'Ships', 'trucking', 'Deepwater Horizon', 'Vessels']"
   ]
  },
  {
   "cell_type": "code",
   "execution_count": 86,
   "metadata": {},
   "outputs": [],
   "source": [
    "suspicious=[\"8327\",\"979893388\",\"Mar de la Vida OJSC\",\"Oceanfront Oasis Inc Carriers\"]\n",
    "nodes_each_path={i:[] for i in suspicious}\n",
    "edges={i:{} for i in suspicious}\n",
    "# for i in suspicious:\n",
    "#     nodes_each_path[i]=scc_nodes\n",
    "#     print(len(scc_nodes))\n",
    "# print(len(nodes_each_path[\"8327\"]))\n",
    "color_rel={\"ownership\":'r',\"membership\":'b',\"partnership\":'g',\"family_relationship\":'y'}\n",
    "key_rel={\"ownership\":0,\"membership\":1,\"partnership\":2,\"family_relationship\":3}\n",
    "# nodes"
   ]
  },
  {
   "cell_type": "code",
   "execution_count": 87,
   "metadata": {},
   "outputs": [
    {
     "data": {
      "text/plain": [
       "[]"
      ]
     },
     "execution_count": 87,
     "metadata": {},
     "output_type": "execute_result"
    }
   ],
   "source": [
    "(nodes_each_path[\"8327\"])"
   ]
  },
  {
   "cell_type": "code",
   "execution_count": 88,
   "metadata": {},
   "outputs": [],
   "source": [
    "node_color={}\n",
    "for j in scc_nodes:\n",
    "    node_color[j]=\"g\"\n",
    "for j in suspicious:\n",
    "    node_color[j]=\"r\"\n",
    "# node_colorxs"
   ]
  },
  {
   "cell_type": "code",
   "execution_count": 89,
   "metadata": {},
   "outputs": [],
   "source": [
    "# edge: (src, tgt, weight)\n",
    "for path in range(len(all_path)):\n",
    "    if path % 2 == 0:\n",
    "        src, tgt = all_path[path]\n",
    "        rel_pairs = all_path[path+1]\n",
    "        temp_pre = src\n",
    "        # print(src,tgt)\n",
    "        if src not in nodes_each_path[tgt]:\n",
    "            nodes_each_path[tgt].append(src)\n",
    "        for pair in range(len(rel_pairs)):\n",
    "            to_node, rel = rel_pairs[-pair-1]\n",
    "            # A rel B,这里是B, rel\n",
    "            if to_node not in node_color:\n",
    "                node_color[to_node] = \"b\"\n",
    "            # 把到达这个终点的路径上的点加入nodes\n",
    "            if to_node not in nodes_each_path[tgt]:\n",
    "                nodes_each_path[tgt].append(to_node)\n",
    "            if (temp_pre, rel, to_node) not in edges[tgt]:\n",
    "                edges[tgt][(temp_pre, rel, to_node)] = 1\n",
    "            else:\n",
    "                edges[tgt][(temp_pre, rel, to_node)] += 1\n",
    "            temp_pre = to_node\n",
    "\n",
    "# nodes_each_path\n"
   ]
  },
  {
   "cell_type": "code",
   "execution_count": 90,
   "metadata": {},
   "outputs": [
    {
     "data": {
      "text/plain": [
       "53"
      ]
     },
     "execution_count": 90,
     "metadata": {},
     "output_type": "execute_result"
    }
   ],
   "source": [
    "len(nodes_each_path[\"Mar de la Vida OJSC\"])"
   ]
  },
  {
   "cell_type": "code",
   "execution_count": 91,
   "metadata": {},
   "outputs": [],
   "source": [
    "import networkx as nx\n",
    "import matplotlib.pyplot as plt\n",
    "%matplotlib inline"
   ]
  },
  {
   "cell_type": "code",
   "execution_count": 92,
   "metadata": {},
   "outputs": [
    {
     "data": {
      "text/plain": [
       "<networkx.classes.multidigraph.MultiDiGraph at 0x7fec255ec490>"
      ]
     },
     "execution_count": 92,
     "metadata": {},
     "output_type": "execute_result"
    }
   ],
   "source": [
    "four_graphs=[]\n",
    "for _ in suspicious:\n",
    "    G = nx.MultiDiGraph()\n",
    "    G.add_nodes_from(nodes_each_path[_])\n",
    "    for edge in edges[_]:\n",
    "        src,rel,tgt=edge\n",
    "        G.add_edge(src,tgt,weight=edges[_][edge],key=key_rel[rel],color=color_rel[rel])\n",
    "    four_graphs.append(G)\n",
    "four_graphs[0]"
   ]
  },
  {
   "cell_type": "code",
   "execution_count": 93,
   "metadata": {},
   "outputs": [
    {
     "name": "stdout",
     "output_type": "stream",
     "text": [
      "[('dup77', 'dup38', {'weight': 1, 'color': 'b'}), ('dup38', \"Fisherman'sFriend Charter Boat S.A. de C.V. Freight \", {'weight': 1, 'color': 'g'}), (\"Fisherman'sFriend Charter Boat S.A. de C.V. Freight \", '464454263', {'weight': 1, 'color': 'r'}), ('464454263', 'Erica Hamilton', {'weight': 1, 'color': 'b'}), ('Erica Hamilton', '160', {'weight': 1, 'color': 'g'}), ('160', '8327', {'weight': 12, 'color': 'b'}), ('water', '7691', {'weight': 1, 'color': 'b'}), ('7691', 'Spanish Shrimp  Carriers', {'weight': 1, 'color': 'y'}), ('Spanish Shrimp  Carriers', '160', {'weight': 4, 'color': 'r'}), ('Gulf', 'Ocean Fisheries Llc', {'weight': 2, 'color': 'r'}), ('Ocean Fisheries Llc', '160', {'weight': 4, 'color': 'r'}), ('salmon', 'George Ramirez', {'weight': 1, 'color': 'r'}), ('George Ramirez', 'd5b94ebc-e03a-438e-872b-a15db349a748', {'weight': 1, 'color': 'r'}), ('d5b94ebc-e03a-438e-872b-a15db349a748', '903311212', {'weight': 1, 'color': 'b'}), ('903311212', '160', {'weight': 3, 'color': 'r'}), ('Plastic', 'Daniel Middleton', {'weight': 1, 'color': 'g'}), ('Daniel Middleton', 'John Conley', {'weight': 1, 'color': 'y'}), ('John Conley', 'Amanda Andrews', {'weight': 1, 'color': 'y'}), ('Amanda Andrews', 'Amanda Mckenzie', {'weight': 1, 'color': 'y'}), ('Amanda Mckenzie', 'Mar del Oeste Pic', {'weight': 1, 'color': 'r'}), ('Mar del Oeste Pic', 'Today', {'weight': 3, 'color': 'r'}), ('Today', '8327', {'weight': 3, 'color': 'b'}), ('19', '903311212', {'weight': 1, 'color': 'r'}), ('dup626', 'DOFâ\\x80\\x99s', {'weight': 1, 'color': 'b'}), ('DOFâ\\x80\\x99s', 'b8567859-bf54-49fd-8332-5775e19c65af', {'weight': 1, 'color': 'b'}), ('b8567859-bf54-49fd-8332-5775e19c65af', '7505050', {'weight': 2, 'color': 'y'}), ('7505050', '8327', {'weight': 4, 'color': 'b'}), ('629', '43685541', {'weight': 1, 'color': 'b'}), ('43685541', 'Mar del Oeste Pic', {'weight': 1, 'color': 'g'}), ('ocean', 'png xi  Line', {'weight': 1, 'color': 'g'}), ('png xi  Line', '7505050', {'weight': 2, 'color': 'r'}), ('bottom', '7670', {'weight': 1, 'color': 'b'}), ('7670', 'Estrella de Coral Ltd. Corporation Logistics', {'weight': 1, 'color': 'g'}), ('Estrella de Coral Ltd. Corporation Logistics', 'Mar del Oeste Pic', {'weight': 1, 'color': 'y'}), ('USS', 'Gulf', {'weight': 1, 'color': 'r'}), ('PC', '185040354', {'weight': 1, 'color': 'b'}), ('185040354', '903311212', {'weight': 1, 'color': 'b'}), ('Oliver', 'Wendy Crane', {'weight': 1, 'color': 'g'}), ('Wendy Crane', 'Ocean Fisheries Llc', {'weight': 1, 'color': 'b'}), ('HMS Montrose', 'b8567859-bf54-49fd-8332-5775e19c65af', {'weight': 1, 'color': 'r'}), ('Talleyâ\\x80\\x99s', 'Ocean Fisheries Llc', {'weight': 1, 'color': 'b'}), ('Ships', '222079892', {'weight': 1, 'color': 'r'}), ('222079892', '740111283', {'weight': 1, 'color': 'r'}), ('740111283', '341411', {'weight': 1, 'color': 'r'}), ('341411', 'Spanish Shrimp  Carriers', {'weight': 1, 'color': 'b'}), ('trucking', '425887173', {'weight': 1, 'color': 'y'}), ('425887173', '2262', {'weight': 1, 'color': 'y'}), ('2262', 'Spanish Shrimp  Carriers', {'weight': 1, 'color': 'g'}), ('Deepwater Horizon', 'Kerala Market Corp Consulting', {'weight': 1, 'color': 'g'}), ('Kerala Market Corp Consulting', '3129', {'weight': 1, 'color': 'r'}), ('3129', '6780', {'weight': 1, 'color': 'b'}), ('6780', '3506021', {'weight': 1, 'color': 'g'}), ('3506021', 'Spanish Shrimp  Carriers', {'weight': 1, 'color': 'r'}), ('Vessels', 'Angela Chang', {'weight': 1, 'color': 'g'}), ('Angela Chang', 'Daniel Chang', {'weight': 1, 'color': 'y'}), ('Daniel Chang', 'Samuel Dunn', {'weight': 1, 'color': 'y'}), ('Samuel Dunn', 'png xi  Line', {'weight': 1, 'color': 'g'})]\n",
      "False\n"
     ]
    }
   ],
   "source": [
    "print(four_graphs[0].edges(data=True))\n",
    "print(\"Oceanfront Oasis Inc Carriers\" in four_graphs[0].nodes())"
   ]
  },
  {
   "cell_type": "code",
   "execution_count": 94,
   "metadata": {},
   "outputs": [],
   "source": [
    "labels = {node: node for node in G.nodes()} \n",
    "# labels"
   ]
  },
  {
   "cell_type": "code",
   "execution_count": 95,
   "metadata": {},
   "outputs": [
    {
     "name": "stderr",
     "output_type": "stream",
     "text": [
      "/var/folders/2q/mfflg7jd005564r5d6qrvy_h0000gn/T/ipykernel_32149/3974849180.py:17: UserWarning: Matplotlib is currently using pgf, which is a non-GUI backend, so cannot show the figure.\n",
      "  plt.show()\n",
      "/var/folders/2q/mfflg7jd005564r5d6qrvy_h0000gn/T/ipykernel_32149/3974849180.py:17: UserWarning: Matplotlib is currently using pgf, which is a non-GUI backend, so cannot show the figure.\n",
      "  plt.show()\n",
      "/var/folders/2q/mfflg7jd005564r5d6qrvy_h0000gn/T/ipykernel_32149/3974849180.py:17: UserWarning: Matplotlib is currently using pgf, which is a non-GUI backend, so cannot show the figure.\n",
      "  plt.show()\n",
      "/var/folders/2q/mfflg7jd005564r5d6qrvy_h0000gn/T/ipykernel_32149/3974849180.py:17: UserWarning: Matplotlib is currently using pgf, which is a non-GUI backend, so cannot show the figure.\n",
      "  plt.show()\n"
     ]
    }
   ],
   "source": [
    "import matplotlib as mpl\n",
    "mpl.use('pgf')\n",
    "cnt=0\n",
    "for graph in four_graphs:\n",
    "    # 绘制节点和边\n",
    "    plt.figure(figsize=(30, 30))\n",
    "    pos = nx.kamada_kawai_layout(graph)\n",
    "    labels = {node: node for node in graph.nodes()}  # 创建节点标签\n",
    "    nx.draw_networkx_labels(graph, pos, labels, font_size=8, font_color='black', font_family='Arial')  \n",
    "    nx.draw_networkx_nodes(graph, pos,node_color=[node_color[node] for node in graph.nodes()],node_size=8)\n",
    "    # nx.draw_networkx_edges(graph, pos)\n",
    "    nx.draw_networkx_edges(graph, pos, edge_color=[d['color'] for u, v,  d in graph.edges( data=True)],\n",
    "                                 width=[d['weight'] for u, v, d in graph.edges( data=True)])\n",
    "\n",
    "    # 显示图形\n",
    "    plt.axis('off')\n",
    "    plt.show()\n",
    "    # print()\n",
    "    # print('./bfs_paths/to_'+str(_)+'pdf')\n",
    "    plt.savefig('../V1/bfs_paths/to_'+suspicious[cnt]+'.pdf')\n",
    "    cnt+=1"
   ]
  },
  {
   "cell_type": "code",
   "execution_count": 96,
   "metadata": {},
   "outputs": [
    {
     "data": {
      "text/plain": [
       "103"
      ]
     },
     "execution_count": 96,
     "metadata": {},
     "output_type": "execute_result"
    }
   ],
   "source": [
    "all_nodes=[]\n",
    "all_edges={}\n",
    "for i in nodes_each_path:\n",
    "    all_nodes+=nodes_each_path[i]\n",
    "all_nodes=list(set(all_nodes))\n",
    "len(all_nodes)\n",
    "for i in edges:\n",
    "    for j in edges[i]:\n",
    "            # print(j)\n",
    "        if j not in all_edges:\n",
    "            all_edges[j]=1\n",
    "        else:\n",
    "            all_edges[j]+=1\n",
    "len(all_edges)"
   ]
  },
  {
   "cell_type": "code",
   "execution_count": 97,
   "metadata": {},
   "outputs": [
    {
     "name": "stderr",
     "output_type": "stream",
     "text": [
      "/var/folders/2q/mfflg7jd005564r5d6qrvy_h0000gn/T/ipykernel_32149/2883487562.py:18: UserWarning: Matplotlib is currently using pgf, which is a non-GUI backend, so cannot show the figure.\n",
      "  plt.show()\n"
     ]
    }
   ],
   "source": [
    "tot_G=nx.MultiDiGraph()\n",
    "tot_G.add_nodes_from(all_nodes)\n",
    "for edge in all_edges:\n",
    "    src,rel,tgt=edge\n",
    "    tot_G.add_edge(src,tgt,weight=all_edges[edge],key=key_rel[rel],color=color_rel[rel])\n",
    "\n",
    "plt.figure(figsize=(30, 30))\n",
    "pos = nx.spring_layout(tot_G)\n",
    "labels = {node: node for node in tot_G.nodes()}  # 创建节点标签\n",
    "nx.draw_networkx_labels(tot_G, pos, labels, font_size=8, font_color='black', font_family='Arial')  \n",
    "nx.draw_networkx_nodes(tot_G, pos,node_color=[node_color[node] for node in tot_G.nodes()],node_size=8)\n",
    "# nx.draw_networkx_edges(graph, pos)\n",
    "nx.draw_networkx_edges(tot_G, pos, edge_color=[d['color'] for u, v,  d in tot_G.edges( data=True)],\n",
    "                                width=[d['weight'] for u, v, d in tot_G.edges( data=True)])\n",
    "\n",
    "# 显示图形\n",
    "plt.axis('off')\n",
    "plt.show()\n",
    "# print()\n",
    "# print('./bfs_paths/to_'+str(_)+'pdf')\n",
    "plt.savefig('../V1/bfs_paths/spring_all.pdf')\n"
   ]
  },
  {
   "cell_type": "markdown",
   "metadata": {},
   "source": [
    "### 画反向图"
   ]
  },
  {
   "cell_type": "code",
   "execution_count": 105,
   "metadata": {},
   "outputs": [],
   "source": [
    "sus3=[\"8327\",\"979893388\",\"Mar de la Vida OJSC\"]\n",
    "nodes_rev={i:[] for i in sus3}\n",
    "edges_rev={i:{} for i in sus3}\n",
    "# edge: (src, tgt, weight)\n",
    "node_color_rev={}\n",
    "for j in scc_nodes:\n",
    "    node_color_rev[j]=\"g\"\n",
    "for j in suspicious:\n",
    "    node_color_rev[j]=\"r\"\n",
    "    \n",
    "for path in range(len(all_path_reverse)):\n",
    "    if path % 2 == 0:\n",
    "        src, tgt = all_path_reverse[path]\n",
    "        rel_pairs = all_path_reverse[path+1]\n",
    "        temp_pre = src\n",
    "        # print(src,tgt)\n",
    "        if tgt not in nodes_rev[src]:\n",
    "            nodes_rev[src].append(tgt)\n",
    "        for pair in range(len(rel_pairs)):\n",
    "            to_node, rel = rel_pairs[-pair-1]\n",
    "            # A rel B,这里是B, rel\n",
    "            if to_node not in node_color_rev:\n",
    "                node_color_rev[to_node] = \"b\"\n",
    "            # 把从这个起点出发的路径上的点加入nodes\n",
    "            if to_node not in nodes_rev[src]:\n",
    "                nodes_rev[src].append(to_node)\n",
    "            if (temp_pre, rel, to_node) not in edges_rev[src]:\n",
    "                edges_rev[src][(temp_pre, rel, to_node)] = 1\n",
    "            else:\n",
    "                edges_rev[src][(temp_pre, rel, to_node)] += 1\n",
    "            temp_pre = to_node\n",
    "\n",
    "# nodes_each_path\n"
   ]
  },
  {
   "cell_type": "code",
   "execution_count": 111,
   "metadata": {},
   "outputs": [
    {
     "name": "stdout",
     "output_type": "stream",
     "text": [
      "8327\n",
      "979893388\n",
      "Mar de la Vida OJSC\n"
     ]
    },
    {
     "data": {
      "text/plain": [
       "[<networkx.classes.multidigraph.MultiDiGraph at 0x7fec3c7079a0>,\n",
       " <networkx.classes.multidigraph.MultiDiGraph at 0x7fec24437d30>,\n",
       " <networkx.classes.multidigraph.MultiDiGraph at 0x7fec3c25ef40>]"
      ]
     },
     "execution_count": 111,
     "metadata": {},
     "output_type": "execute_result"
    }
   ],
   "source": [
    "four_graphs_rev=[]\n",
    "for _ in sus3:\n",
    "    print(_)\n",
    "    G = nx.MultiDiGraph()\n",
    "    G.add_nodes_from(nodes_rev[_])\n",
    "    for edge in edges_rev[_]:\n",
    "        src,rel,tgt=edge\n",
    "        G.add_edge(src,tgt,weight=edges_rev[_][edge],key=key_rel[rel],color=color_rel[rel])\n",
    "    four_graphs_rev.append(G)\n",
    "    # print(G)\n",
    "four_graphs_rev"
   ]
  },
  {
   "cell_type": "code",
   "execution_count": 113,
   "metadata": {},
   "outputs": [
    {
     "name": "stderr",
     "output_type": "stream",
     "text": [
      "/var/folders/2q/mfflg7jd005564r5d6qrvy_h0000gn/T/ipykernel_32149/3076754423.py:17: UserWarning: Matplotlib is currently using pgf, which is a non-GUI backend, so cannot show the figure.\n",
      "  plt.show()\n"
     ]
    },
    {
     "name": "stdout",
     "output_type": "stream",
     "text": [
      "../V1/bfs_paths/from_8327.pdf\n"
     ]
    },
    {
     "name": "stderr",
     "output_type": "stream",
     "text": [
      "/var/folders/2q/mfflg7jd005564r5d6qrvy_h0000gn/T/ipykernel_32149/3076754423.py:17: UserWarning: Matplotlib is currently using pgf, which is a non-GUI backend, so cannot show the figure.\n",
      "  plt.show()\n"
     ]
    },
    {
     "name": "stdout",
     "output_type": "stream",
     "text": [
      "../V1/bfs_paths/from_979893388.pdf\n"
     ]
    },
    {
     "name": "stderr",
     "output_type": "stream",
     "text": [
      "/var/folders/2q/mfflg7jd005564r5d6qrvy_h0000gn/T/ipykernel_32149/3076754423.py:17: UserWarning: Matplotlib is currently using pgf, which is a non-GUI backend, so cannot show the figure.\n",
      "  plt.show()\n"
     ]
    },
    {
     "name": "stdout",
     "output_type": "stream",
     "text": [
      "../V1/bfs_paths/from_Mar de la Vida OJSC.pdf\n"
     ]
    }
   ],
   "source": [
    "import matplotlib as mpl\n",
    "mpl.use('pgf')\n",
    "cnt=0\n",
    "for graph in four_graphs_rev:\n",
    "    # 绘制节点和边\n",
    "    plt.figure(figsize=(30, 30))\n",
    "    pos = nx.kamada_kawai_layout(graph)\n",
    "    labels = {node: node for node in graph.nodes()}  # 创建节点标签\n",
    "    nx.draw_networkx_labels(graph, pos, labels, font_size=8, font_color='black', font_family='Arial')  \n",
    "    nx.draw_networkx_nodes(graph, pos,node_color=[node_color_rev[node] for node in graph.nodes()],node_size=8)\n",
    "    # nx.draw_networkx_edges(graph, pos)\n",
    "    nx.draw_networkx_edges(graph, pos, edge_color=[d['color'] for u, v,  d in graph.edges( data=True)],\n",
    "                                 width=[d['weight'] for u, v, d in graph.edges( data=True)])\n",
    "\n",
    "    # 显示图形\n",
    "    plt.axis('off')\n",
    "    plt.show()\n",
    "    # print()\n",
    "    print('../V1/bfs_paths/from_'+sus3[cnt]+'.pdf')\n",
    "    plt.savefig('../V1/bfs_paths/from_'+sus3[cnt]+'.pdf')\n",
    "    cnt+=1"
   ]
  }
 ],
 "metadata": {
  "kernelspec": {
   "display_name": "base",
   "language": "python",
   "name": "python3"
  },
  "language_info": {
   "codemirror_mode": {
    "name": "ipython",
    "version": 3
   },
   "file_extension": ".py",
   "mimetype": "text/x-python",
   "name": "python",
   "nbconvert_exporter": "python",
   "pygments_lexer": "ipython3",
   "version": "3.8.13"
  },
  "orig_nbformat": 4
 },
 "nbformat": 4,
 "nbformat_minor": 2
}
