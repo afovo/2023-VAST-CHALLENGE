{
 "cells": [
  {
   "cell_type": "code",
   "execution_count": 1,
   "metadata": {},
   "outputs": [],
   "source": [
    "import json\n",
    "from matplotlib import pyplot as plt\n",
    "import pandas as pd\n",
    "import numpy as np"
   ]
  },
  {
   "cell_type": "code",
   "execution_count": 2,
   "metadata": {},
   "outputs": [],
   "source": [
    "v1=json.load(open('MC1.json'))"
   ]
  },
  {
   "cell_type": "code",
   "execution_count": null,
   "metadata": {},
   "outputs": [],
   "source": []
  },
  {
   "cell_type": "code",
   "execution_count": 3,
   "metadata": {},
   "outputs": [
    {
     "name": "stdout",
     "output_type": "stream",
     "text": [
      "dict_values(['ownership', 0.90013963, 'MC1', 'Spanish Shrimp  Carriers', 12744, 0])\n",
      "dict_keys(['type', 'weight', 'dataset', 'source', 'target', 'key'])\n",
      "dict_keys(['type', 'dataset', 'country', 'id'])\n",
      "dict_values(['company', 'MC1', 'Nalakond', 'Spanish Shrimp  Carriers'])\n"
     ]
    }
   ],
   "source": [
    "print(v1['links'][0].values())\n",
    "print(v1['links'][0].keys())\n",
    "print(v1['nodes'][0].keys())\n",
    "print(v1['nodes'][0].values())"
   ]
  },
  {
   "cell_type": "code",
   "execution_count": 4,
   "metadata": {},
   "outputs": [],
   "source": [
    "node_keys=list(v1['nodes'][0].keys())\n",
    "for i in v1['nodes']:\n",
    "    for j in node_keys:\n",
    "        if j not in i.keys():\n",
    "            i[j]=None"
   ]
  },
  {
   "cell_type": "code",
   "execution_count": 5,
   "metadata": {},
   "outputs": [
    {
     "data": {
      "text/html": [
       "<div>\n",
       "<style scoped>\n",
       "    .dataframe tbody tr th:only-of-type {\n",
       "        vertical-align: middle;\n",
       "    }\n",
       "\n",
       "    .dataframe tbody tr th {\n",
       "        vertical-align: top;\n",
       "    }\n",
       "\n",
       "    .dataframe thead th {\n",
       "        text-align: right;\n",
       "    }\n",
       "</style>\n",
       "<table border=\"1\" class=\"dataframe\">\n",
       "  <thead>\n",
       "    <tr style=\"text-align: right;\">\n",
       "      <th></th>\n",
       "      <th>type</th>\n",
       "      <th>dataset</th>\n",
       "      <th>country</th>\n",
       "      <th>id</th>\n",
       "    </tr>\n",
       "  </thead>\n",
       "  <tbody>\n",
       "    <tr>\n",
       "      <th>0</th>\n",
       "      <td>company</td>\n",
       "      <td>MC1</td>\n",
       "      <td>Nalakond</td>\n",
       "      <td>Spanish Shrimp  Carriers</td>\n",
       "    </tr>\n",
       "    <tr>\n",
       "      <th>1</th>\n",
       "      <td>organization</td>\n",
       "      <td>MC1</td>\n",
       "      <td>None</td>\n",
       "      <td>12744</td>\n",
       "    </tr>\n",
       "    <tr>\n",
       "      <th>2</th>\n",
       "      <td>organization</td>\n",
       "      <td>MC1</td>\n",
       "      <td>None</td>\n",
       "      <td>143129355</td>\n",
       "    </tr>\n",
       "    <tr>\n",
       "      <th>3</th>\n",
       "      <td>organization</td>\n",
       "      <td>MC1</td>\n",
       "      <td>None</td>\n",
       "      <td>7775</td>\n",
       "    </tr>\n",
       "    <tr>\n",
       "      <th>4</th>\n",
       "      <td>organization</td>\n",
       "      <td>MC1</td>\n",
       "      <td>None</td>\n",
       "      <td>1017141</td>\n",
       "    </tr>\n",
       "  </tbody>\n",
       "</table>\n",
       "</div>"
      ],
      "text/plain": [
       "           type dataset   country                        id\n",
       "0       company     MC1  Nalakond  Spanish Shrimp  Carriers\n",
       "1  organization     MC1      None                     12744\n",
       "2  organization     MC1      None                 143129355\n",
       "3  organization     MC1      None                      7775\n",
       "4  organization     MC1      None                   1017141"
      ]
     },
     "execution_count": 5,
     "metadata": {},
     "output_type": "execute_result"
    }
   ],
   "source": [
    "# nodes_df=pd.DataFrame(columns=list(v1['nodes'][0].keys()))\n",
    "# nodes_df.append(list(i.values()) for i in v1['nodes'])\n",
    "nodes_df=pd.DataFrame(v1['nodes'])\n",
    "nodes_df.head()"
   ]
  },
  {
   "cell_type": "code",
   "execution_count": 6,
   "metadata": {},
   "outputs": [
    {
     "data": {
      "text/html": [
       "<div>\n",
       "<style scoped>\n",
       "    .dataframe tbody tr th:only-of-type {\n",
       "        vertical-align: middle;\n",
       "    }\n",
       "\n",
       "    .dataframe tbody tr th {\n",
       "        vertical-align: top;\n",
       "    }\n",
       "\n",
       "    .dataframe thead th {\n",
       "        text-align: right;\n",
       "    }\n",
       "</style>\n",
       "<table border=\"1\" class=\"dataframe\">\n",
       "  <thead>\n",
       "    <tr style=\"text-align: right;\">\n",
       "      <th></th>\n",
       "      <th>type</th>\n",
       "      <th>weight</th>\n",
       "      <th>dataset</th>\n",
       "      <th>source</th>\n",
       "      <th>target</th>\n",
       "      <th>key</th>\n",
       "      <th>weightlcoat</th>\n",
       "    </tr>\n",
       "  </thead>\n",
       "  <tbody>\n",
       "    <tr>\n",
       "      <th>0</th>\n",
       "      <td>ownership</td>\n",
       "      <td>0.900140</td>\n",
       "      <td>MC1</td>\n",
       "      <td>Spanish Shrimp  Carriers</td>\n",
       "      <td>12744</td>\n",
       "      <td>0</td>\n",
       "      <td>NaN</td>\n",
       "    </tr>\n",
       "    <tr>\n",
       "      <th>1</th>\n",
       "      <td>partnership</td>\n",
       "      <td>0.845897</td>\n",
       "      <td>MC1</td>\n",
       "      <td>Spanish Shrimp  Carriers</td>\n",
       "      <td>21323516</td>\n",
       "      <td>0</td>\n",
       "      <td>NaN</td>\n",
       "    </tr>\n",
       "    <tr>\n",
       "      <th>2</th>\n",
       "      <td>partnership</td>\n",
       "      <td>0.964876</td>\n",
       "      <td>MC1</td>\n",
       "      <td>Spanish Shrimp  Carriers</td>\n",
       "      <td>290834957</td>\n",
       "      <td>0</td>\n",
       "      <td>NaN</td>\n",
       "    </tr>\n",
       "    <tr>\n",
       "      <th>3</th>\n",
       "      <td>ownership</td>\n",
       "      <td>0.964213</td>\n",
       "      <td>MC1</td>\n",
       "      <td>Spanish Shrimp  Carriers</td>\n",
       "      <td>3506021</td>\n",
       "      <td>0</td>\n",
       "      <td>NaN</td>\n",
       "    </tr>\n",
       "    <tr>\n",
       "      <th>4</th>\n",
       "      <td>family_relationship</td>\n",
       "      <td>0.823486</td>\n",
       "      <td>MC1</td>\n",
       "      <td>Spanish Shrimp  Carriers</td>\n",
       "      <td>Conventionâ</td>\n",
       "      <td>0</td>\n",
       "      <td>NaN</td>\n",
       "    </tr>\n",
       "  </tbody>\n",
       "</table>\n",
       "</div>"
      ],
      "text/plain": [
       "                  type    weight dataset                    source  \\\n",
       "0            ownership  0.900140     MC1  Spanish Shrimp  Carriers   \n",
       "1          partnership  0.845897     MC1  Spanish Shrimp  Carriers   \n",
       "2          partnership  0.964876     MC1  Spanish Shrimp  Carriers   \n",
       "3            ownership  0.964213     MC1  Spanish Shrimp  Carriers   \n",
       "4  family_relationship  0.823486     MC1  Spanish Shrimp  Carriers   \n",
       "\n",
       "        target  key  weightlcoat  \n",
       "0        12744    0          NaN  \n",
       "1     21323516    0          NaN  \n",
       "2    290834957    0          NaN  \n",
       "3      3506021    0          NaN  \n",
       "4  Conventionâ    0          NaN  "
      ]
     },
     "execution_count": 6,
     "metadata": {},
     "output_type": "execute_result"
    }
   ],
   "source": [
    "link_keys=list(v1['links'][0].keys())\n",
    "for i in v1['links']:\n",
    "    for j in link_keys:\n",
    "        if j not in i.keys():\n",
    "            i[j]=None\n",
    "links_df=pd.DataFrame(v1['links'])\n",
    "links_df.head()"
   ]
  },
  {
   "cell_type": "code",
   "execution_count": 7,
   "metadata": {},
   "outputs": [],
   "source": [
    "link_keys=list(v1['links'][0].keys())\n",
    "multiedges=[i for i in v1['links'] if i['key']>0]\n",
    "multiedges_exclude={}\n",
    "for i in multiedges:\n",
    "    pair=(i['source'],i['target'])\n",
    "    if pair not in multiedges_exclude.keys():\n",
    "        multiedges_exclude[pair]=i['key']\n",
    "    elif i['key']>multiedges_exclude[pair]:\n",
    "        multiedges_exclude[pair]=i['key']\n",
    "# multiedges_exclude"
   ]
  },
  {
   "cell_type": "code",
   "execution_count": 8,
   "metadata": {},
   "outputs": [
    {
     "data": {
      "text/plain": [
       "492"
      ]
     },
     "execution_count": 8,
     "metadata": {},
     "output_type": "execute_result"
    }
   ],
   "source": [
    "len(multiedges)"
   ]
  },
  {
   "cell_type": "code",
   "execution_count": 9,
   "metadata": {},
   "outputs": [],
   "source": [
    "target_nodes=[]\n",
    "for i in multiedges_exclude.keys():\n",
    "    if i[0] not in target_nodes:\n",
    "        target_nodes.append(i[0])\n",
    "    if i[1] not in target_nodes:\n",
    "        target_nodes.append(i[1])"
   ]
  },
  {
   "cell_type": "code",
   "execution_count": 10,
   "metadata": {},
   "outputs": [
    {
     "name": "stdout",
     "output_type": "stream",
     "text": [
      "['Spanish Shrimp  Carriers', 'Ocean Fisheries Llc', 'Faroe Islands Shrimp Shark', 185040354, 'Christopher Cunningham', 341411, 'Playa del Cielo Kga', 'png xi  Line', 'SeaSpray Wave SRL Solutions', 1, 47679, 'DOFâ\\x80\\x99s', 'Irish Sea Seaside GmbH & Co. KG Distribution', 235866056, 75399, 'b8567859-bf54-49fd-8332-5775e19c65af', 967900443, 903311212, 'Mar del Oeste Pic', 4, 290834957, 750975, 979893388, 95, 265700083, 7298083, '14bda3bb-9993-4265-97cc-1747808c144e', '602ea158-0519-47fc-badc-787721580418', 'St', 49494, 435054320, 'months', 'Tamil Nadu S.p.A.', 'West Bengal S.A. de C.V.', 'Amanda Mckenzie', 'Patricia Bowen', 'Andrea Gibson', 'Seafood', 'Daniel Mason', 'â\\x80\\x9cTrials', '032522db-8105-4c26-8142-ae9d5806f7c5', 'Stephen Marks', 'electric', 'Jerry Welch', 'Martin Bryant', 'Kerala Market Corp Consulting', 'dbb07e32-a8f4-47d0-ae61-c2e9774e9284', '011ad1ae-ae1b-4c74-9f58-c020e6a3e836', 39, '259e9338-b33e-4dc7-843a-96a720d22d9b', 'days', 1039, '18 wheelers', '165e0fe7-6725-4f4c-abc1-3ef485a939b0', 'ordinary', 454, 7505050, 7691, 'Explorer', 'Michele Henry', 'Jeffrey Yates', 'Cape of Good Hope  Oyj', 'fc4e853f-6e18-4631-bf95-f70d6a30579f', '705283b0-cdb7-4f0a-8481-b3fea243a8e5', 'Angela Powers', 49729, '19', 'Mario Richardson', 'e678510b-947d-455a-8eb0-44d1009682ec', 'ad8fe467-3759-4f53-bf6a-896a237d187f', 'Richard Perkins', 6335187, 'Chris Grant', 160, 'd4947401-8ec7-48b9-a66f-45d983d59e0a', 84616, 'Jeremy Norris', 'Alan Wells', 'Motor Vessel', 'Calvin Salas', 'Noah Mitchell', 'ItaquaÃ', '1710a32e-7a58-4d7f-9c5e-bf897b7419a3', 'bottom otter trawler', '96', 'Michele Black', 'underwater', 'Rajasthan GmbH & Co. KG', 'bc583d11-794a-4a83-abc8-3daa208e1262', 'Feb', '449856a6-3b60-46ca-b825-f9499558fa3a', '577a9358-a718-4d90-a90e-88f88c58160d', 'Terri Rodriguez', 'Margaret Hodges', '2028', 2262, 'FishEye International', 'Tamil Nadu Ltd. Liability Co Express', 'l y S.A. de C.V. International', 'Sea Products', 959344, 'â\\x80Š', 874124852, 3506021, 52, 'Daniel Snyder', 'morningâ\\x80\\x99s', 'Tristan Johnson', 'Patricia Flores', 'Sonia Fisheries Pvt', 3404599, 'Estrella de Coral Ltd. Corporation Logistics', 'Forwading S.A. de C.V.', 'Mitsubishi', 'Uber Connect']\n"
     ]
    }
   ],
   "source": [
    "print(target_nodes)"
   ]
  },
  {
   "cell_type": "code",
   "execution_count": 11,
   "metadata": {},
   "outputs": [],
   "source": [
    "node_dict={}\n",
    "for i in v1['nodes']:\n",
    "    node_dict[i['id']]=[i['type'],i['country']]\n",
    "# node_dict"
   ]
  },
  {
   "cell_type": "code",
   "execution_count": 12,
   "metadata": {},
   "outputs": [],
   "source": [
    "target_direct_neighbors=[]\n",
    "for i in target_nodes:\n",
    "    for j in v1['links']:\n",
    "        if j['source'] in target_nodes and j['target'] not in target_direct_neighbors:\n",
    "            target_direct_neighbors.append(j['target'])\n",
    "        if j['target'] in target_nodes and j['source'] not in target_direct_neighbors:\n",
    "            target_direct_neighbors.append(j['source'])\n",
    "dir_nei_type={}\n",
    "for i in target_direct_neighbors:\n",
    "    if node_dict[i][0] not in dir_nei_type.keys():\n",
    "        dir_nei_type[node_dict[i][0]]=1\n",
    "    else:\n",
    "        dir_nei_type[node_dict[i][0]]+=1\n"
   ]
  },
  {
   "cell_type": "code",
   "execution_count": 13,
   "metadata": {},
   "outputs": [
    {
     "data": {
      "text/plain": [
       "int"
      ]
     },
     "execution_count": 13,
     "metadata": {},
     "output_type": "execute_result"
    }
   ],
   "source": [
    "target_direct_neighbors\n",
    "type(dir_nei_type['company'])"
   ]
  },
  {
   "cell_type": "code",
   "execution_count": 14,
   "metadata": {},
   "outputs": [
    {
     "name": "stderr",
     "output_type": "stream",
     "text": [
      "findfont: Font family ['Times new roman'] not found. Falling back to DejaVu Sans.\n"
     ]
    },
    {
     "data": {
      "image/png": "[encoded data removed]",
      "text/plain": [
       "<Figure size 720x720 with 1 Axes>"
      ]
     },
     "metadata": {
      "needs_background": "light"
     },
     "output_type": "display_data"
    }
   ],
   "source": [
    "plt.figure(figsize=(10,10))\n",
    "y=np.arange(len(dir_nei_type.keys()))\n",
    "bar=plt.barh(y=y,width=dir_nei_type.values(),tick_label=list(dir_nei_type.keys()))\n",
    "for idx,width in enumerate(dir_nei_type.values()):\n",
    "    plt.text(width,y[idx],'%d'%width, size=10, family=\"Times new roman\")\n",
    "plt.show()"
   ]
  },
  {
   "cell_type": "code",
   "execution_count": 15,
   "metadata": {},
   "outputs": [
    {
     "data": {
      "text/html": [
       "<div>\n",
       "<style scoped>\n",
       "    .dataframe tbody tr th:only-of-type {\n",
       "        vertical-align: middle;\n",
       "    }\n",
       "\n",
       "    .dataframe tbody tr th {\n",
       "        vertical-align: top;\n",
       "    }\n",
       "\n",
       "    .dataframe thead th {\n",
       "        text-align: right;\n",
       "    }\n",
       "</style>\n",
       "<table border=\"1\" class=\"dataframe\">\n",
       "  <thead>\n",
       "    <tr style=\"text-align: right;\">\n",
       "      <th></th>\n",
       "      <th>link_type</th>\n",
       "      <th>weight</th>\n",
       "      <th>dataset_x</th>\n",
       "      <th>source</th>\n",
       "      <th>target</th>\n",
       "      <th>key</th>\n",
       "      <th>source_type</th>\n",
       "      <th>link_country</th>\n",
       "      <th>target_type</th>\n",
       "      <th>target_country</th>\n",
       "    </tr>\n",
       "  </thead>\n",
       "  <tbody>\n",
       "    <tr>\n",
       "      <th>0</th>\n",
       "      <td>ownership</td>\n",
       "      <td>0.900140</td>\n",
       "      <td>MC1</td>\n",
       "      <td>Spanish Shrimp  Carriers</td>\n",
       "      <td>12744</td>\n",
       "      <td>0</td>\n",
       "      <td>company</td>\n",
       "      <td>Nalakond</td>\n",
       "      <td>organization</td>\n",
       "      <td>None</td>\n",
       "    </tr>\n",
       "    <tr>\n",
       "      <th>1</th>\n",
       "      <td>partnership</td>\n",
       "      <td>0.845897</td>\n",
       "      <td>MC1</td>\n",
       "      <td>Spanish Shrimp  Carriers</td>\n",
       "      <td>21323516</td>\n",
       "      <td>0</td>\n",
       "      <td>company</td>\n",
       "      <td>Nalakond</td>\n",
       "      <td>organization</td>\n",
       "      <td>None</td>\n",
       "    </tr>\n",
       "    <tr>\n",
       "      <th>2</th>\n",
       "      <td>partnership</td>\n",
       "      <td>0.964876</td>\n",
       "      <td>MC1</td>\n",
       "      <td>Spanish Shrimp  Carriers</td>\n",
       "      <td>290834957</td>\n",
       "      <td>0</td>\n",
       "      <td>company</td>\n",
       "      <td>Nalakond</td>\n",
       "      <td>organization</td>\n",
       "      <td>None</td>\n",
       "    </tr>\n",
       "    <tr>\n",
       "      <th>3</th>\n",
       "      <td>ownership</td>\n",
       "      <td>0.964213</td>\n",
       "      <td>MC1</td>\n",
       "      <td>Spanish Shrimp  Carriers</td>\n",
       "      <td>3506021</td>\n",
       "      <td>0</td>\n",
       "      <td>company</td>\n",
       "      <td>Nalakond</td>\n",
       "      <td>organization</td>\n",
       "      <td>None</td>\n",
       "    </tr>\n",
       "    <tr>\n",
       "      <th>4</th>\n",
       "      <td>family_relationship</td>\n",
       "      <td>0.823486</td>\n",
       "      <td>MC1</td>\n",
       "      <td>Spanish Shrimp  Carriers</td>\n",
       "      <td>Conventionâ</td>\n",
       "      <td>0</td>\n",
       "      <td>company</td>\n",
       "      <td>Nalakond</td>\n",
       "      <td>None</td>\n",
       "      <td>None</td>\n",
       "    </tr>\n",
       "  </tbody>\n",
       "</table>\n",
       "</div>"
      ],
      "text/plain": [
       "             link_type    weight dataset_x                    source  \\\n",
       "0            ownership  0.900140       MC1  Spanish Shrimp  Carriers   \n",
       "1          partnership  0.845897       MC1  Spanish Shrimp  Carriers   \n",
       "2          partnership  0.964876       MC1  Spanish Shrimp  Carriers   \n",
       "3            ownership  0.964213       MC1  Spanish Shrimp  Carriers   \n",
       "4  family_relationship  0.823486       MC1  Spanish Shrimp  Carriers   \n",
       "\n",
       "        target  key source_type link_country   target_type target_country  \n",
       "0        12744    0     company     Nalakond  organization           None  \n",
       "1     21323516    0     company     Nalakond  organization           None  \n",
       "2    290834957    0     company     Nalakond  organization           None  \n",
       "3      3506021    0     company     Nalakond  organization           None  \n",
       "4  Conventionâ    0     company     Nalakond          None           None  "
      ]
     },
     "execution_count": 15,
     "metadata": {},
     "output_type": "execute_result"
    }
   ],
   "source": [
    "##### merge nodes and links together according to source and targets\n",
    "merged_info=links_df.merge(nodes_df,how='left',left_on='source',right_on='id')\n",
    "merged_info=merged_info.merge(nodes_df,how='left',left_on='target',right_on='id')\n",
    "merged_info.drop(['id_x','id_y','weightlcoat','dataset','dataset_y'],axis=1,inplace=True)\n",
    "merged_info.rename(columns={'type_x':'link_type','type_y':'source_type','country_x':'link_country','country':'source_country',\n",
    "                            'type':'target_type','country_y':'target_country'},inplace=True)\n",
    "merged_info.head()\n"
   ]
  },
  {
   "cell_type": "code",
   "execution_count": 32,
   "metadata": {},
   "outputs": [
    {
     "name": "stdout",
     "output_type": "stream",
     "text": [
      "<class 'pandas.core.frame.DataFrame'>\n",
      "Int64Index: 11069 entries, 0 to 11068\n",
      "Data columns (total 10 columns):\n",
      " #   Column          Non-Null Count  Dtype  \n",
      "---  ------          --------------  -----  \n",
      " 0   link_type       11069 non-null  object \n",
      " 1   weight          11068 non-null  float64\n",
      " 2   dataset_x       11069 non-null  object \n",
      " 3   source          11069 non-null  object \n",
      " 4   target          11069 non-null  object \n",
      " 5   key             11069 non-null  int64  \n",
      " 6   source_type     8468 non-null   object \n",
      " 7   link_country    3003 non-null   object \n",
      " 8   target_type     8287 non-null   object \n",
      " 9   target_country  3547 non-null   object \n",
      "dtypes: float64(1), int64(1), object(8)\n",
      "memory usage: 1.2+ MB\n"
     ]
    },
    {
     "data": {
      "text/plain": [
       "array([ 0,  1,  2,  3,  4,  5,  6,  7,  8,  9, 10, 11, 12, 13, 14, 15, 16,\n",
       "       17, 18, 19, 20, 21])"
      ]
     },
     "execution_count": 32,
     "metadata": {},
     "output_type": "execute_result"
    }
   ],
   "source": [
    "merged_info.info()\n",
    "merged_info['key'].unique()"
   ]
  },
  {
   "cell_type": "code",
   "execution_count": 45,
   "metadata": {},
   "outputs": [
    {
     "name": "stdout",
     "output_type": "stream",
     "text": [
      "195\n"
     ]
    },
    {
     "data": {
      "text/plain": [
       "dict_keys([(4, 341411), (95, 341411), (95, 'Ocean Fisheries Llc'), (160, 'Ocean Fisheries Llc'), (160, 'png xi  Line'), (454, 'Ocean Fisheries Llc'), (7691, 'Mar del Oeste Pic'), (47679, 341411), (47679, 'Christopher Cunningham'), (47679, 'Faroe Islands Shrimp Shark'), (47679, 'b8567859-bf54-49fd-8332-5775e19c65af'), (47679, 'png xi  Line'), (49494, 'SeaSpray Wave SRL Solutions'), (49729, 'png xi  Line'), (341411, 1), (341411, 47679), (341411, 75399), (341411, 235866056), (341411, 903311212), (341411, 967900443), (341411, 'Christopher Cunningham'), (341411, 'DOFâ\\x80\\x99s'), (341411, 'Faroe Islands Shrimp Shark'), (341411, 'Irish Sea Seaside GmbH & Co. KG Distribution'), (341411, 'Playa del Cielo Kga'), (341411, 'SeaSpray Wave SRL Solutions'), (341411, 'b8567859-bf54-49fd-8332-5775e19c65af'), (341411, 'png xi  Line'), (750975, 979893388), (750975, 'png xi  Line'), (6335187, 'Mar del Oeste Pic'), (7298083, 'Ocean Fisheries Llc'), (7505050, 'Playa del Cielo Kga'), (235866056, 341411), (235866056, 'Christopher Cunningham'), (235866056, 'Faroe Islands Shrimp Shark'), (265700083, 'Ocean Fisheries Llc'), (290834957, 341411), (435054320, 903311212), (435054320, 'Mar del Oeste Pic'), (435054320, 'SeaSpray Wave SRL Solutions'), (903311212, 84616), (903311212, 979893388), (903311212, 'Alan Wells'), (903311212, 'Amanda Mckenzie'), (903311212, 'Calvin Salas'), (903311212, 'Faroe Islands Shrimp Shark'), (903311212, 'Jeremy Norris'), (903311212, 'Mar del Oeste Pic'), (903311212, 'Motor Vessel'), (903311212, 'Noah Mitchell'), (903311212, 'Ocean Fisheries Llc'), (903311212, 'Playa del Cielo Kga'), (903311212, 'SeaSpray Wave SRL Solutions'), (903311212, 'Spanish Shrimp  Carriers'), (903311212, 'png xi  Line'), (967900443, 'Mar del Oeste Pic'), (979893388, 'png xi  Line'), ('14bda3bb-9993-4265-97cc-1747808c144e', 'Ocean Fisheries Llc'), ('1710a32e-7a58-4d7f-9c5e-bf897b7419a3', 'Mar del Oeste Pic'), ('19', 903311212), ('19', 'Mar del Oeste Pic'), ('2028', 'SeaSpray Wave SRL Solutions'), ('449856a6-3b60-46ca-b825-f9499558fa3a', 'Mar del Oeste Pic'), ('577a9358-a718-4d90-a90e-88f88c58160d', 'Playa del Cielo Kga'), ('602ea158-0519-47fc-badc-787721580418', 903311212), ('705283b0-cdb7-4f0a-8481-b3fea243a8e5', 'png xi  Line'), ('96', 'Christopher Cunningham'), ('Angela Powers', 'SeaSpray Wave SRL Solutions'), ('Cape of Good Hope  Oyj', 'Mar del Oeste Pic'), ('Chris Grant', 903311212), ('Christopher Cunningham', 341411), ('Estrella de Coral Ltd. Corporation Logistics', 'Christopher Cunningham'), ('Estrella de Coral Ltd. Corporation Logistics', 'Mar del Oeste Pic'), ('Explorer', 'Ocean Fisheries Llc'), ('Faroe Islands Shrimp Shark', 341411), ('Faroe Islands Shrimp Shark', 185040354), ('Faroe Islands Shrimp Shark', 'Christopher Cunningham'), ('Faroe Islands Shrimp Shark', 'Playa del Cielo Kga'), ('Faroe Islands Shrimp Shark', 'SeaSpray Wave SRL Solutions'), ('Faroe Islands Shrimp Shark', 'png xi  Line'), ('Feb', 'SeaSpray Wave SRL Solutions'), ('FishEye International', 'Tamil Nadu Ltd. Liability Co Express'), ('Forwading S.A. de C.V.', 'SeaSpray Wave SRL Solutions'), ('Irish Sea Seaside GmbH & Co. KG Distribution', 'Christopher Cunningham'), ('Irish Sea Seaside GmbH & Co. KG Distribution', 'Faroe Islands Shrimp Shark'), ('ItaquaÃ', 'SeaSpray Wave SRL Solutions'), ('Jeffrey Yates', 903311212), ('Mar del Oeste Pic', 903311212), ('Mar del Oeste Pic', 979893388), ('Mar del Oeste Pic', '165e0fe7-6725-4f4c-abc1-3ef485a939b0'), ('Mar del Oeste Pic', 'Amanda Mckenzie'), ('Mar del Oeste Pic', 'Ocean Fisheries Llc'), ('Mar del Oeste Pic', 'SeaSpray Wave SRL Solutions'), ('Mar del Oeste Pic', 'West Bengal S.A. de C.V.'), ('Mar del Oeste Pic', 'ordinary'), ('Mar del Oeste Pic', 'png xi  Line'), ('Margaret Hodges', 'Ocean Fisheries Llc'), ('Margaret Hodges', 'SeaSpray Wave SRL Solutions'), ('Margaret Hodges', 'png xi  Line'), ('Mario Richardson', 'Ocean Fisheries Llc'), ('Michele Black', 'Ocean Fisheries Llc'), ('Michele Henry', 'Playa del Cielo Kga'), ('Michele Henry', 'png xi  Line'), ('Mitsubishi', 'Playa del Cielo Kga'), ('Ocean Fisheries Llc', 52), ('Ocean Fisheries Llc', 160), ('Ocean Fisheries Llc', 3506021), ('Ocean Fisheries Llc', 874124852), ('Ocean Fisheries Llc', 903311212), ('Ocean Fisheries Llc', 979893388), ('Ocean Fisheries Llc', 'Amanda Mckenzie'), ('Ocean Fisheries Llc', 'Daniel Snyder'), ('Ocean Fisheries Llc', 'Faroe Islands Shrimp Shark'), ('Ocean Fisheries Llc', 'Jeremy Norris'), ('Ocean Fisheries Llc', 'Mar del Oeste Pic'), ('Ocean Fisheries Llc', 'Patricia Flores'), ('Ocean Fisheries Llc', 'SeaSpray Wave SRL Solutions'), ('Ocean Fisheries Llc', 'Tristan Johnson'), ('Ocean Fisheries Llc', 'morningâ\\x80\\x99s'), ('Ocean Fisheries Llc', 'png xi  Line'), ('Ocean Fisheries Llc', 'â\\x80Š'), ('Playa del Cielo Kga', 39), ('Playa del Cielo Kga', 1039), ('Playa del Cielo Kga', 341411), ('Playa del Cielo Kga', '18 wheelers'), ('Playa del Cielo Kga', '259e9338-b33e-4dc7-843a-96a720d22d9b'), ('Playa del Cielo Kga', 'SeaSpray Wave SRL Solutions'), ('Playa del Cielo Kga', 'days'), ('Rajasthan GmbH & Co. KG', 'SeaSpray Wave SRL Solutions'), ('Richard Perkins', 'Mar del Oeste Pic'), ('Richard Perkins', 'Ocean Fisheries Llc'), ('SeaSpray Wave SRL Solutions', 341411), ('SeaSpray Wave SRL Solutions', 959344), ('SeaSpray Wave SRL Solutions', 903311212), ('SeaSpray Wave SRL Solutions', 979893388), ('SeaSpray Wave SRL Solutions', 'Alan Wells'), ('SeaSpray Wave SRL Solutions', 'Amanda Mckenzie'), ('SeaSpray Wave SRL Solutions', 'Calvin Salas'), ('SeaSpray Wave SRL Solutions', 'Faroe Islands Shrimp Shark'), ('SeaSpray Wave SRL Solutions', 'Jeremy Norris'), ('SeaSpray Wave SRL Solutions', 'Mar del Oeste Pic'), ('SeaSpray Wave SRL Solutions', 'Ocean Fisheries Llc'), ('SeaSpray Wave SRL Solutions', 'Sea Products'), ('SeaSpray Wave SRL Solutions', 'l y S.A. de C.V. International'), ('SeaSpray Wave SRL Solutions', 'png xi  Line'), ('Sonia Fisheries Pvt', 3404599), ('Sonia Fisheries Pvt', 'Faroe Islands Shrimp Shark'), ('Sonia Fisheries Pvt', 'Ocean Fisheries Llc'), ('Sonia Fisheries Pvt', 'Playa del Cielo Kga'), ('Sonia Fisheries Pvt', 'b8567859-bf54-49fd-8332-5775e19c65af'), ('Spanish Shrimp  Carriers', 'Ocean Fisheries Llc'), ('St', 'Ocean Fisheries Llc'), ('Terri Rodriguez', 903311212), ('Uber Connect', 'SeaSpray Wave SRL Solutions'), ('ad8fe467-3759-4f53-bf6a-896a237d187f', 'Playa del Cielo Kga'), ('b8567859-bf54-49fd-8332-5775e19c65af', 2262), ('b8567859-bf54-49fd-8332-5775e19c65af', 'Faroe Islands Shrimp Shark'), ('b8567859-bf54-49fd-8332-5775e19c65af', 'Mar del Oeste Pic'), ('b8567859-bf54-49fd-8332-5775e19c65af', 'Playa del Cielo Kga'), ('b8567859-bf54-49fd-8332-5775e19c65af', 'SeaSpray Wave SRL Solutions'), ('bc583d11-794a-4a83-abc8-3daa208e1262', 'Ocean Fisheries Llc'), ('bottom otter trawler', 'png xi  Line'), ('d4947401-8ec7-48b9-a66f-45d983d59e0a', 'Mar del Oeste Pic'), ('e678510b-947d-455a-8eb0-44d1009682ec', 903311212), ('e678510b-947d-455a-8eb0-44d1009682ec', 'Mar del Oeste Pic'), ('e678510b-947d-455a-8eb0-44d1009682ec', 'Ocean Fisheries Llc'), ('e678510b-947d-455a-8eb0-44d1009682ec', 'SeaSpray Wave SRL Solutions'), ('fc4e853f-6e18-4631-bf95-f70d6a30579f', 'Ocean Fisheries Llc'), ('months', 'Playa del Cielo Kga'), ('png xi  Line', 1), ('png xi  Line', 341411), ('png xi  Line', 185040354), ('png xi  Line', 903311212), ('png xi  Line', '011ad1ae-ae1b-4c74-9f58-c020e6a3e836'), ('png xi  Line', '032522db-8105-4c26-8142-ae9d5806f7c5'), ('png xi  Line', 'Amanda Mckenzie'), ('png xi  Line', 'Andrea Gibson'), ('png xi  Line', 'Daniel Mason'), ('png xi  Line', 'Faroe Islands Shrimp Shark'), ('png xi  Line', 'Jerry Welch'), ('png xi  Line', 'Kerala Market Corp Consulting'), ('png xi  Line', 'Mar del Oeste Pic'), ('png xi  Line', 'Martin Bryant'), ('png xi  Line', 'Ocean Fisheries Llc'), ('png xi  Line', 'Patricia Bowen'), ('png xi  Line', 'SeaSpray Wave SRL Solutions'), ('png xi  Line', 'Seafood'), ('png xi  Line', 'Stephen Marks'), ('png xi  Line', 'Tamil Nadu S.p.A.'), ('png xi  Line', 'West Bengal S.A. de C.V.'), ('png xi  Line', 'dbb07e32-a8f4-47d0-ae61-c2e9774e9284'), ('png xi  Line', 'electric'), ('png xi  Line', 'â\\x80\\x9cTrials'), ('underwater', 'png xi  Line')])"
      ]
     },
     "execution_count": 45,
     "metadata": {},
     "output_type": "execute_result"
    }
   ],
   "source": [
    "df_multi=merged_info[merged_info['key']>0]\n",
    "df_each=list(df_multi.groupby(['source','target']))\n",
    "# 变成dict\n",
    "df_each_dict={}\n",
    "for i in range(len(df_each)):\n",
    "    df_each[i][1].sort_values(by='key',inplace=True)\n",
    "    df_each_dict[df_each[i][0]]=df_each[i][1]\n",
    "print(len(df_each))\n",
    "# # 缺失0那条，重新放进来\n",
    "for i in df_each_dict:\n",
    "    key_ori=merged_info[(merged_info['source']==i[0])&(merged_info['target']==i[1])&(merged_info['key']==0)]\n",
    "    df_each_dict[i]=pd.concat([df_each_dict[i],key_ori],axis=0)\n",
    "df_each_dict.keys()\n",
    "\n"
   ]
  },
  {
   "cell_type": "code",
   "execution_count": 47,
   "metadata": {},
   "outputs": [
    {
     "name": "stdout",
     "output_type": "stream",
     "text": [
      "175 195\n"
     ]
    }
   ],
   "source": [
    "undirected=[]\n",
    "for i in df_each_dict:\n",
    "    if((i[0],i[1]) in undirected) or ((i[1],i[0]) in undirected):\n",
    "        continue\n",
    "    undirected.append(i)\n",
    "print(len(undirected),len(df_each_dict.keys()))\n"
   ]
  },
  {
   "cell_type": "code",
   "execution_count": null,
   "metadata": {},
   "outputs": [],
   "source": [
    "###画一下每一对重边的邻居信息?"
   ]
  }
 ],
 "metadata": {
  "kernelspec": {
   "display_name": "base",
   "language": "python",
   "name": "python3"
  },
  "language_info": {
   "codemirror_mode": {
    "name": "ipython",
    "version": 3
   },
   "file_extension": ".py",
   "mimetype": "text/x-python",
   "name": "python",
   "nbconvert_exporter": "python",
   "pygments_lexer": "ipython3",
   "version": "3.9.12"
  },
  "orig_nbformat": 4
 },
 "nbformat": 4,
 "nbformat_minor": 2
}
