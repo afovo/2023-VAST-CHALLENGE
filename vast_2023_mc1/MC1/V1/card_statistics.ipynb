{
 "cells": [
  {
   "cell_type": "code",
   "execution_count": 134,
   "metadata": {},
   "outputs": [],
   "source": [
    "import json\n",
    "import pandas as pd\n",
    "import numpy as np\n",
    "import matplotlib.pyplot as plt\n",
    "from collections import Counter"
   ]
  },
  {
   "cell_type": "code",
   "execution_count": 135,
   "metadata": {},
   "outputs": [
    {
     "name": "stdout",
     "output_type": "stream",
     "text": [
      "<class 'pandas.core.frame.DataFrame'>\n",
      "RangeIndex: 11069 entries, 0 to 11068\n",
      "Data columns (total 11 columns):\n",
      " #   Column          Non-Null Count  Dtype  \n",
      "---  ------          --------------  -----  \n",
      " 0   Unnamed: 0      11069 non-null  int64  \n",
      " 1   link_type       11069 non-null  object \n",
      " 2   weight          11068 non-null  float64\n",
      " 3   dataset_x       11069 non-null  object \n",
      " 4   source          11069 non-null  object \n",
      " 5   target          11069 non-null  object \n",
      " 6   key             11069 non-null  int64  \n",
      " 7   source_type     11069 non-null  object \n",
      " 8   source_country  3003 non-null   object \n",
      " 9   target_type     11069 non-null  object \n",
      " 10  target_country  3547 non-null   object \n",
      "dtypes: float64(1), int64(2), object(8)\n",
      "memory usage: 951.4+ KB\n"
     ]
    }
   ],
   "source": [
    "v1=json.load(open('../../mc1_vis_system/public/MC1.json'))\n",
    "nodes_df=pd.DataFrame(v1['nodes'])\n",
    "links_df=pd.DataFrame(v1['links'])\n",
    "merged_info=pd.read_csv('./merged_info.csv') #用原始的，算连边数量最多的点\n",
    "merged_info.info()"
   ]
  },
  {
   "cell_type": "code",
   "execution_count": 136,
   "metadata": {},
   "outputs": [],
   "source": [
    "#{name:,in_num:,out_num:,\n",
    "# owner_num:,partner_num:,member_num:,fam_num:,\n",
    "# undefined_num:,company:,organization:,person:,location:,movement:,event:,political_organization:,vessel:,\n",
    "# top3neighbor:[]}"
   ]
  },
  {
   "cell_type": "code",
   "execution_count": 137,
   "metadata": {},
   "outputs": [],
   "source": [
    "statistics={}\n",
    "out_num={}\n",
    "in_num={}\n",
    "# 出边统计\n",
    "out_group=list(merged_info.groupby('source'))\n",
    "for i in range(len(out_group)):\n",
    "    source,df=out_group[i]\n",
    "    out_num[source]=len(df)\n",
    "# 入边统计 \n",
    "in_group=list(merged_info.groupby('target'))\n",
    "for i in range(len(in_group)):\n",
    "    target,df=in_group[i]\n",
    "    in_num[target]=len(df)\n",
    "    \n"
   ]
  },
  {
   "cell_type": "code",
   "execution_count": 138,
   "metadata": {},
   "outputs": [],
   "source": [
    "# out_num['Oceanfront Oasis Inc Carriers'],in_num['0']"
   ]
  },
  {
   "cell_type": "code",
   "execution_count": 139,
   "metadata": {},
   "outputs": [
    {
     "data": {
      "text/plain": [
       "{'family_relationship': 6, 'ownership': 2, 'partnership': 5}"
      ]
     },
     "execution_count": 139,
     "metadata": {},
     "output_type": "execute_result"
    }
   ],
   "source": [
    "# 直连边类型统计\n",
    "neighbor_link_type={}\n",
    "for i in range(len(out_group)):\n",
    "    source,df=out_group[i]\n",
    "    type_cnt=df['link_type'].value_counts()\n",
    "    neighbor_link_type[source]=type_cnt.to_dict()\n",
    "for i in range(len(in_group)):\n",
    "    target,df=in_group[i]\n",
    "    type_cnt=df['link_type'].value_counts().to_dict()\n",
    "    if target in neighbor_link_type:\n",
    "        tmp=Counter(neighbor_link_type[target])\n",
    "        neighbor_link_type[target]=dict(tmp+Counter(type_cnt))\n",
    "    else: \n",
    "        neighbor_link_type[target]=type_cnt\n",
    "\n",
    "neighbor_link_type['0']"
   ]
  },
  {
   "cell_type": "code",
   "execution_count": 140,
   "metadata": {},
   "outputs": [
    {
     "data": {
      "text/plain": [
       "{'organization': 7, 'person': 2, 'unknown': 3, 'location': 1}"
      ]
     },
     "execution_count": 140,
     "metadata": {},
     "output_type": "execute_result"
    }
   ],
   "source": [
    "# 邻居节点统计\n",
    "neighbor_node_type={}\n",
    "for i in range(len(out_group)):\n",
    "    source,df=out_group[i]\n",
    "    type_cnt=df['target_type'].value_counts()\n",
    "    neighbor_node_type[source]=type_cnt.to_dict()\n",
    "for i in range(len(in_group)):\n",
    "    target,df=in_group[i]\n",
    "    type_cnt=df['source_type'].value_counts().to_dict()\n",
    "    if target in neighbor_node_type:\n",
    "        tmp=Counter(neighbor_node_type[target])\n",
    "        neighbor_node_type[target]=dict(tmp+Counter(type_cnt))\n",
    "    else: \n",
    "        neighbor_node_type[target]=type_cnt\n",
    "neighbor_node_type['0']"
   ]
  },
  {
   "cell_type": "code",
   "execution_count": 141,
   "metadata": {},
   "outputs": [
    {
     "data": {
      "text/plain": [
       "[('435054320', 2), ('7505050', 2), ('185106', 1)]"
      ]
     },
     "execution_count": 141,
     "metadata": {},
     "output_type": "execute_result"
    }
   ],
   "source": [
    "# 连边最多的top3\n",
    "top3={}\n",
    "for i in range(len(out_group)):\n",
    "    source,df=out_group[i]\n",
    "    top3[source]=(df['target'].value_counts().to_dict())\n",
    "for i in range(len(in_group)):\n",
    "    target,df=in_group[i]\n",
    "    src_cnt=(df['source'].value_counts().to_dict())\n",
    "    if target in top3:\n",
    "        tmp=Counter(top3[target])\n",
    "        top3[target]=dict(tmp+Counter(src_cnt))\n",
    "    else:\n",
    "        top3[target]=src_cnt\n",
    "for key in top3:\n",
    "    top3[key]=sorted(top3[key].items(), key=lambda x: x[1], reverse=True)[:3]\n",
    "\n",
    "top3['8327']"
   ]
  },
  {
   "cell_type": "code",
   "execution_count": 142,
   "metadata": {},
   "outputs": [
    {
     "data": {
      "text/plain": [
       "[('Mar del Oeste Pic', 6),\n",
       " ('903311212', 6),\n",
       " ('SeaSpray Wave SRL Solutions', 6)]"
      ]
     },
     "execution_count": 142,
     "metadata": {},
     "output_type": "execute_result"
    }
   ],
   "source": [
    "top3['979893388']"
   ]
  },
  {
   "cell_type": "markdown",
   "metadata": {},
   "source": [
    "### 处理unity"
   ]
  },
  {
   "cell_type": "code",
   "execution_count": 143,
   "metadata": {},
   "outputs": [],
   "source": [
    "# 打开json\n",
    "with open(\"../../data/unities.json\", \"r\") as file:\n",
    "    unity_data = json.load(file)"
   ]
  },
  {
   "cell_type": "code",
   "execution_count": 144,
   "metadata": {},
   "outputs": [
    {
     "data": {
      "text/plain": [
       "4"
      ]
     },
     "execution_count": 144,
     "metadata": {},
     "output_type": "execute_result"
    }
   ],
   "source": [
    "len(unity_data)"
   ]
  },
  {
   "cell_type": "code",
   "execution_count": 145,
   "metadata": {},
   "outputs": [],
   "source": [
    "for i in unity_data:\n",
    "    cnt=0\n",
    "    name=i['name'].split(\"_\")[0]\n",
    "    if name==\"person\":\n",
    "        name=\"family\"\n",
    "    name=name.capitalize()\n",
    "    new_unity=[]\n",
    "    for j in i['unity']:\n",
    "        # print(j)\n",
    "        record_dict={}\n",
    "        record_dict['name']=name+' Group '+str(cnt)\n",
    "        cnt+=1\n",
    "        record_dict['members']=j\n",
    "        record_dict['size']=len(j)\n",
    "        new_unity.append(record_dict)\n",
    "        # i['unity'].append(record_dict)\n",
    "    i['unity']=new_unity"
   ]
  },
  {
   "cell_type": "code",
   "execution_count": 146,
   "metadata": {},
   "outputs": [],
   "source": [
    "# 写成新的json\n",
    "with open(\"../../data/new_unities.json\", \"w\") as file:\n",
    "    json.dump(unity_data, file)"
   ]
  },
  {
   "cell_type": "code",
   "execution_count": 147,
   "metadata": {},
   "outputs": [],
   "source": [
    "nodes_df['type'].fillna(\"null\",inplace=True)\n",
    "nodes_df['country'].fillna(\"null\",inplace=True)"
   ]
  },
  {
   "cell_type": "markdown",
   "metadata": {},
   "source": [
    "### 写json"
   ]
  },
  {
   "cell_type": "code",
   "execution_count": 148,
   "metadata": {},
   "outputs": [],
   "source": [
    "all_nodes=nodes_df['id'].unique()\n",
    "# node_dict_keys=[\"name\",\"in_num\",\"out_num\",\n",
    "# \"owner_num\",\"partner_num\",\"member_num\",\"fam_num\",\n",
    "# \"undefined\",\"company\",\"organization\",\"person\",\"location\",\"movement\",\"event\",\"political_organization\",\"vessel\",\n",
    "# \"top3neighbor\"]\n",
    "link_keys=[\"ownership\",\"partnership\",\"membership\",\"family_relationship\"]\n",
    "node_keys=[\"null\",\"company\",\"organization\",\"person\",\"location\",\"movement\",\"event\",\"political_organization\",\"vessel\"]\n",
    "for node in all_nodes:\n",
    "    node_dict={}\n",
    "    # node_dict[node]={}\n",
    "    tmp_node_df=nodes_df[nodes_df['id']==node]\n",
    "    node_dict['type']=tmp_node_df['type'].values[0]\n",
    "    node_dict['country']=tmp_node_df['country'].values[0] \n",
    "    node_dict['in_num']=in_num[node] if node in in_num else 0\n",
    "    node_dict['out_num']=out_num[node] if node in out_num else 0\n",
    "    node_link=neighbor_link_type[node]\n",
    "    node_node=neighbor_node_type[node]\n",
    "    for key in link_keys:\n",
    "        # print(key)\n",
    "        node_dict[key]=node_link[key] if key in node_link else 0\n",
    "    \n",
    "    for key in node_keys:\n",
    "        node_dict[key]=node_node[key] if key in node_node else 0\n",
    "    node_dict[\"null\"]=node_node[\"null\"] if \"null\" in node_node else 0\n",
    "    node_dict['top3neighbor']=top3[node]\n",
    "    statistics[node]=(node_dict)\n",
    "    "
   ]
  },
  {
   "cell_type": "markdown",
   "metadata": {},
   "source": [
    "#### unity信息放进dict"
   ]
  },
  {
   "cell_type": "code",
   "execution_count": 149,
   "metadata": {},
   "outputs": [],
   "source": [
    "for i in unity_data:\n",
    "    for j in i['unity']:\n",
    "        name=j['name']\n",
    "        for mem in j['members']:\n",
    "            # print(mem)\n",
    "            if mem==\"OceanicOrigin Foods Co and Sons\":\n",
    "                mem=\"OceanicOrigin Foods Co and Son's\"\n",
    "            if mem in statistics:\n",
    "                # print(mem)\n",
    "                statistics[mem]['unity_name']=name\n",
    "                statistics[mem]['unity_size']=j['size']\n",
    "for i in statistics:\n",
    "    if 'unity_name' not in statistics[i]:\n",
    "        statistics[i]['unity_name']=\"null\"\n",
    "        statistics[i]['unity_size']=\"null\"\n",
    "            \n",
    "        "
   ]
  },
  {
   "cell_type": "markdown",
   "metadata": {},
   "source": [
    "##### 弱连通分量里的船"
   ]
  },
  {
   "cell_type": "code",
   "execution_count": 150,
   "metadata": {},
   "outputs": [],
   "source": [
    "# 读取json\n",
    "with open(\"../../../技术储备/Tarjan/weakly connected component.json\", \"r\") as file:\n",
    "    wcc = json.load(file)"
   ]
  },
  {
   "cell_type": "code",
   "execution_count": 151,
   "metadata": {},
   "outputs": [],
   "source": [
    "all_ves=nodes_df[nodes_df['type']=='vessel']['id'].unique()\n",
    "for i in wcc:\n",
    "    components=i['component']\n",
    "    ves_in_comp=[i for i in components if i in all_ves]\n",
    "    if len(ves_in_comp)!=0:\n",
    "        # 该wcc里有vessel\n",
    "        for j in components:\n",
    "            statistics[j]['vessels_in_same_wcc']=ves_in_comp\n",
    "    else:\n",
    "        for j in components:\n",
    "            statistics[j]['vessels_in_same_wcc']=\"null\"\n"
   ]
  },
  {
   "cell_type": "code",
   "execution_count": 152,
   "metadata": {},
   "outputs": [],
   "source": [
    "a=[1,2]\n",
    "b=a.remove(2)\n",
    "b"
   ]
  },
  {
   "cell_type": "markdown",
   "metadata": {},
   "source": [
    "##### 同一弱连通分量里出入度之和最大的top3\n",
    "（也有可能同一弱连通分量里没有超过4个点，那就展示所有点）"
   ]
  },
  {
   "cell_type": "code",
   "execution_count": 153,
   "metadata": {},
   "outputs": [],
   "source": [
    "merged_info=pd.read_csv('./merged_info.csv')\n",
    "for i in wcc:\n",
    "    components=i['component']\n",
    "    sum_degrees={}\n",
    "    for j in components:\n",
    "        sum_degrees[j]=len(merged_info[(merged_info['source']==j) | (merged_info['target']==j)])\n",
    "    sum_degrees_top=sorted(sum_degrees.items(), key=lambda x: x[1], reverse=True)\n",
    "    top3=sum_degrees_top[:3]\n",
    "    for j in components:\n",
    "        tmp=top3.copy()\n",
    "        statistics[j]['sum_degrees_top3']=tmp\n",
    "        top3node=[i[0] for i in top3]\n",
    "        if j in top3node:\n",
    "            statistics[j]['sum_degrees_top3'].remove((j,sum_degrees[j]))\n",
    "            # print(j, statistics[j]['sum_degrees_top3'])\n",
    "            if len(sum_degrees_top)>=4:\n",
    "                statistics[j]['sum_degrees_top3'].append(sum_degrees_top[3])\n",
    "            \n"
   ]
  },
  {
   "cell_type": "code",
   "execution_count": 154,
   "metadata": {},
   "outputs": [
    {
     "data": {
      "text/plain": [
       "{'type': 'null',\n",
       " 'country': 'null',\n",
       " 'in_num': 193,\n",
       " 'out_num': 207,\n",
       " 'ownership': 96,\n",
       " 'partnership': 79,\n",
       " 'membership': 168,\n",
       " 'family_relationship': 57,\n",
       " 'null': 0,\n",
       " 'company': 62,\n",
       " 'organization': 112,\n",
       " 'person': 80,\n",
       " 'location': 37,\n",
       " 'movement': 2,\n",
       " 'event': 7,\n",
       " 'political_organization': 9,\n",
       " 'vessel': 12,\n",
       " 'top3neighbor': [('SeaSpray Wave SRL Solutions', 40),\n",
       "  ('png xi  Line', 28),\n",
       "  ('903311212', 24)],\n",
       " 'unity_name': 'null',\n",
       " 'unity_size': 'null',\n",
       " 'vessels_in_same_wcc': ['FV',\n",
       "  'Motor Vessel',\n",
       "  'boatâ\\x80\\x99s',\n",
       "  'Cutter',\n",
       "  'AirPods',\n",
       "  'Water',\n",
       "  'USCGC',\n",
       "  'ARA Contraalmirante Cordero',\n",
       "  'wheeler',\n",
       "  'HMS',\n",
       "  'salmon',\n",
       "  'HMS Medway',\n",
       "  'USS',\n",
       "  'Ocean Patrol',\n",
       "  'river',\n",
       "  'Manned',\n",
       "  'Gulf',\n",
       "  'FV Thunder',\n",
       "  'dup621',\n",
       "  'PC',\n",
       "  'bulker',\n",
       "  'Wartsila',\n",
       "  'Coast',\n",
       "  'Oceans',\n",
       "  'Rapido beam',\n",
       "  'Hang',\n",
       "  'Vehicle Land',\n",
       "  'FV Snake',\n",
       "  '629',\n",
       "  'Deepwater Horizon',\n",
       "  'Craftâ\\x80\\x93Law',\n",
       "  'reefers',\n",
       "  'water',\n",
       "  'Coast Guard Cutter Edgar Culbertson',\n",
       "  'Viking fishing',\n",
       "  'DDG',\n",
       "  'Ocean Tuna',\n",
       "  'cutter James',\n",
       "  'scooter',\n",
       "  'Tian',\n",
       "  'Aine',\n",
       "  'Explorer',\n",
       "  'diesel',\n",
       "  'trucking',\n",
       "  'Boat',\n",
       "  'HMAS',\n",
       "  'bottom',\n",
       "  'motor',\n",
       "  'Cutters',\n",
       "  'operated vehicle',\n",
       "  'Chinook',\n",
       "  'USS Hurricane',\n",
       "  'electric',\n",
       "  'Snow Crab',\n",
       "  'ARA Bouchard',\n",
       "  'Aerial',\n",
       "  'FV Viking',\n",
       "  'driftnets',\n",
       "  'sailboat Freeport',\n",
       "  'electric cars',\n",
       "  'Plastic',\n",
       "  'watercraft',\n",
       "  'Leng 999 Gal',\n",
       "  'Ship2Report',\n",
       "  'Michelle',\n",
       "  'Marine',\n",
       "  'Montrose',\n",
       "  'Amphibious Warships',\n",
       "  'waterâ\\x80\\x99s',\n",
       "  'dup23',\n",
       "  'Abrams MIA2',\n",
       "  'Spy',\n",
       "  'Oliver',\n",
       "  'Bulk Carrier',\n",
       "  'SSN',\n",
       "  'dup18',\n",
       "  'water fishing',\n",
       "  'coastguard',\n",
       "  'Boston',\n",
       "  'Talleyâ\\x80\\x99s',\n",
       "  'ocean',\n",
       "  'pilot',\n",
       "  'Perch',\n",
       "  'truck',\n",
       "  'USS Hershel',\n",
       "  '19',\n",
       "  'dup77',\n",
       "  'Feng',\n",
       "  'Ships',\n",
       "  'Rapido beam trawler',\n",
       "  'Long Xing 629',\n",
       "  '18 wheelers',\n",
       "  'shrimper',\n",
       "  'vesselâ\\x80\\x99s',\n",
       "  'whales',\n",
       "  'MBTs',\n",
       "  'Kenworth 18-wheeler',\n",
       "  'underwater',\n",
       "  'boat',\n",
       "  'Vessels',\n",
       "  'HMS Montrose',\n",
       "  'dup626',\n",
       "  'cutters',\n",
       "  'Maru',\n",
       "  'bottom otter trawler',\n",
       "  'oceanâ\\x80\\x99s'],\n",
       " 'sum_degrees_top3': [('png xi  Line', 399),\n",
       "  ('SeaSpray Wave SRL Solutions', 391),\n",
       "  ('903311212', 390)]}"
      ]
     },
     "execution_count": 154,
     "metadata": {},
     "output_type": "execute_result"
    }
   ],
   "source": [
    "statistics['Ocean Fisheries Llc']"
   ]
  },
  {
   "cell_type": "markdown",
   "metadata": {},
   "source": [
    "##### 用强连通的更新强连通的来源"
   ]
  },
  {
   "cell_type": "code",
   "execution_count": 155,
   "metadata": {},
   "outputs": [],
   "source": [
    "# 读取json\n",
    "with open(\"../../../技术储备/Tarjan/strong connected component.json\", \"r\") as file:\n",
    "    scc = json.load(file)"
   ]
  },
  {
   "cell_type": "code",
   "execution_count": 156,
   "metadata": {},
   "outputs": [],
   "source": [
    "all_ves=nodes_df[nodes_df['type']=='vessel']['id'].unique()\n",
    "for i in scc:\n",
    "    components=i['component']\n",
    "    ves_in_comp=[i for i in components if i in all_ves]\n",
    "    if len(ves_in_comp)!=0:\n",
    "        # 该scc里有vessel\n",
    "        for j in components:\n",
    "            statistics[j]['vessels_in_same_scc']=ves_in_comp\n",
    "            statistics[j]['vessels_in_same_wcc']=\"null\"\n",
    "    "
   ]
  },
  {
   "cell_type": "code",
   "execution_count": 157,
   "metadata": {},
   "outputs": [],
   "source": [
    "for a in statistics:\n",
    "    if \"vessels_in_same_scc\" not in statistics[a]:\n",
    "        statistics[a]['vessels_in_same_scc']=\"null\""
   ]
  },
  {
   "cell_type": "code",
   "execution_count": 158,
   "metadata": {},
   "outputs": [
    {
     "data": {
      "text/plain": [
       "{'type': 'organization',\n",
       " 'country': 'null',\n",
       " 'in_num': 124,\n",
       " 'out_num': 81,\n",
       " 'ownership': 22,\n",
       " 'partnership': 45,\n",
       " 'membership': 68,\n",
       " 'family_relationship': 70,\n",
       " 'null': 0,\n",
       " 'company': 16,\n",
       " 'organization': 64,\n",
       " 'person': 51,\n",
       " 'location': 17,\n",
       " 'movement': 3,\n",
       " 'event': 2,\n",
       " 'political_organization': 10,\n",
       " 'vessel': 1,\n",
       " 'top3neighbor': [('Mar del Oeste Pic', 6),\n",
       "  ('903311212', 6),\n",
       "  ('SeaSpray Wave SRL Solutions', 6)],\n",
       " 'unity_name': 'Organization Group 1',\n",
       " 'unity_size': 134,\n",
       " 'vessels_in_same_wcc': 'null',\n",
       " 'sum_degrees_top3': [('Ocean Fisheries Llc', 400),\n",
       "  ('png xi  Line', 399),\n",
       "  ('SeaSpray Wave SRL Solutions', 391)],\n",
       " 'vessels_in_same_scc': ['Talleyâ\\x80\\x99s',\n",
       "  'ocean',\n",
       "  '629',\n",
       "  'Deepwater Horizon',\n",
       "  'Plastic',\n",
       "  '19',\n",
       "  'dup77',\n",
       "  'water',\n",
       "  'Ships',\n",
       "  'salmon',\n",
       "  'USS',\n",
       "  'trucking',\n",
       "  'Gulf',\n",
       "  'Oliver',\n",
       "  'bottom',\n",
       "  'PC',\n",
       "  'Vessels',\n",
       "  'HMS Montrose',\n",
       "  'dup626']}"
      ]
     },
     "execution_count": 158,
     "metadata": {},
     "output_type": "execute_result"
    }
   ],
   "source": [
    "statistics['979893388']"
   ]
  },
  {
   "cell_type": "code",
   "execution_count": 159,
   "metadata": {},
   "outputs": [],
   "source": [
    "for b in statistics:\n",
    "    statistics[b]['scc_sum_degrees_top3']=\"null\""
   ]
  },
  {
   "cell_type": "code",
   "execution_count": 160,
   "metadata": {},
   "outputs": [],
   "source": [
    "# merged_info=pd.read_csv('./merged_info.csv')\n",
    "for i in scc:\n",
    "    components=i['component']\n",
    "    sum_degrees={}\n",
    "    for j in components:\n",
    "        sum_degrees[j]=len(merged_info[(merged_info['source']==j) | (merged_info['target']==j)])\n",
    "    sum_degrees_top=sorted(sum_degrees.items(), key=lambda x: x[1], reverse=True)\n",
    "    top3=sum_degrees_top[:3]\n",
    "    for j in components:\n",
    "        tmp=top3.copy()\n",
    "        statistics[j]['scc_sum_degrees_top3']=tmp\n",
    "        statistics[j]['sum_degrees_top3']=\"null\"\n",
    "        top3node=[i[0] for i in top3]\n",
    "        if j in top3node:\n",
    "            statistics[j]['scc_sum_degrees_top3'].remove((j,sum_degrees[j]))\n",
    "            # print(j, statistics[j]['sum_degrees_top3'])\n",
    "            if len(sum_degrees_top)>=4:\n",
    "                statistics[j]['scc_sum_degrees_top3'].append(sum_degrees_top[3])\n",
    "            \n"
   ]
  },
  {
   "cell_type": "code",
   "execution_count": 161,
   "metadata": {},
   "outputs": [
    {
     "data": {
      "text/plain": [
       "'null'"
      ]
     },
     "execution_count": 161,
     "metadata": {},
     "output_type": "execute_result"
    }
   ],
   "source": [
    "statistics[\"Dawn Robinson\"][\"scc_sum_degrees_top3\"]"
   ]
  },
  {
   "cell_type": "code",
   "execution_count": null,
   "metadata": {},
   "outputs": [],
   "source": []
  },
  {
   "cell_type": "code",
   "execution_count": 164,
   "metadata": {},
   "outputs": [
    {
     "data": {
      "text/plain": [
       "{'type': 'organization',\n",
       " 'country': 'null',\n",
       " 'in_num': 124,\n",
       " 'out_num': 81,\n",
       " 'ownership': 22,\n",
       " 'partnership': 45,\n",
       " 'membership': 68,\n",
       " 'family_relationship': 70,\n",
       " 'null': 0,\n",
       " 'company': 16,\n",
       " 'organization': 64,\n",
       " 'person': 51,\n",
       " 'location': 17,\n",
       " 'movement': 3,\n",
       " 'event': 2,\n",
       " 'political_organization': 10,\n",
       " 'vessel': 1,\n",
       " 'top3neighbor': [('Mar del Oeste Pic', 6),\n",
       "  ('903311212', 6),\n",
       "  ('SeaSpray Wave SRL Solutions', 6)],\n",
       " 'unity_name': 'Organization Group 1',\n",
       " 'unity_size': 134,\n",
       " 'vessels_in_same_wcc': 'null',\n",
       " 'sum_degrees_top3': 'null',\n",
       " 'vessels_in_same_scc': ['Talleyâ\\x80\\x99s',\n",
       "  'ocean',\n",
       "  '629',\n",
       "  'Deepwater Horizon',\n",
       "  'Plastic',\n",
       "  '19',\n",
       "  'dup77',\n",
       "  'water',\n",
       "  'Ships',\n",
       "  'salmon',\n",
       "  'USS',\n",
       "  'trucking',\n",
       "  'Gulf',\n",
       "  'Oliver',\n",
       "  'bottom',\n",
       "  'PC',\n",
       "  'Vessels',\n",
       "  'HMS Montrose',\n",
       "  'dup626'],\n",
       " 'scc_sum_degrees_top3': [('Ocean Fisheries Llc', 400),\n",
       "  ('png xi  Line', 399),\n",
       "  ('SeaSpray Wave SRL Solutions', 391)]}"
      ]
     },
     "execution_count": 164,
     "metadata": {},
     "output_type": "execute_result"
    }
   ],
   "source": [
    "statistics[\"979893388\"]"
   ]
  },
  {
   "cell_type": "code",
   "execution_count": 165,
   "metadata": {},
   "outputs": [],
   "source": [
    "with open(\"../../data/card_statistics.json\",'w',encoding='utf-8') as f:\n",
    "    f.write(json.dumps(statistics))\n",
    "    "
   ]
  }
 ],
 "metadata": {
  "kernelspec": {
   "display_name": "base",
   "language": "python",
   "name": "python3"
  },
  "language_info": {
   "codemirror_mode": {
    "name": "ipython",
    "version": 3
   },
   "file_extension": ".py",
   "mimetype": "text/x-python",
   "name": "python",
   "nbconvert_exporter": "python",
   "pygments_lexer": "ipython3",
   "version": "3.8.13"
  },
  "orig_nbformat": 4
 },
 "nbformat": 4,
 "nbformat_minor": 2
}
