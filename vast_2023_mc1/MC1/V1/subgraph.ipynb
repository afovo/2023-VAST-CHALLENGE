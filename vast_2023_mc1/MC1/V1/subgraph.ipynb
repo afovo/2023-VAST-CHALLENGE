{
 "cells": [
  {
   "cell_type": "code",
   "execution_count": 1,
   "metadata": {},
   "outputs": [],
   "source": [
    "import json\n",
    "import pandas as pd\n",
    "import numpy as np\n"
   ]
  },
  {
   "cell_type": "code",
   "execution_count": 2,
   "metadata": {},
   "outputs": [
    {
     "name": "stdout",
     "output_type": "stream",
     "text": [
      "<class 'pandas.core.frame.DataFrame'>\n",
      "RangeIndex: 10747 entries, 0 to 10746\n",
      "Data columns (total 8 columns):\n",
      " #   Column          Non-Null Count  Dtype  \n",
      "---  ------          --------------  -----  \n",
      " 0   source          10747 non-null  object \n",
      " 1   target          10747 non-null  object \n",
      " 2   link_type       10747 non-null  object \n",
      " 3   weight          10746 non-null  float64\n",
      " 4   source_type     8257 non-null   object \n",
      " 5   source_country  2902 non-null   object \n",
      " 6   target_type     8079 non-null   object \n",
      " 7   target_country  3421 non-null   object \n",
      "dtypes: float64(1), object(7)\n",
      "memory usage: 671.8+ KB\n"
     ]
    }
   ],
   "source": [
    "v1=json.load(open('../../mc1_vis_system/public/MC1.json'))\n",
    "nodes_df=pd.DataFrame(v1['nodes'])\n",
    "links_df=pd.DataFrame(v1['links'])\n",
    "merged_info=pd.read_csv('./merged_weight_tot.csv')\n",
    "merged_info.info()"
   ]
  },
  {
   "cell_type": "code",
   "execution_count": 3,
   "metadata": {},
   "outputs": [],
   "source": [
    "entities=[\"company\",\"person\",\"organization\"]"
   ]
  },
  {
   "cell_type": "code",
   "execution_count": 4,
   "metadata": {},
   "outputs": [],
   "source": [
    "subgraph_nodes=nodes_df[nodes_df['type'].isin(entities)]"
   ]
  },
  {
   "cell_type": "code",
   "execution_count": 5,
   "metadata": {},
   "outputs": [],
   "source": [
    "subgraph_links=links_df[(links_df['source'].isin(subgraph_nodes['id']))&(links_df['target'].isin(subgraph_nodes['id']))]"
   ]
  },
  {
   "cell_type": "code",
   "execution_count": 6,
   "metadata": {},
   "outputs": [
    {
     "data": {
      "text/plain": [
       "(2099, 4187)"
      ]
     },
     "execution_count": 6,
     "metadata": {},
     "output_type": "execute_result"
    }
   ],
   "source": [
    "len(subgraph_nodes),len(subgraph_links)"
   ]
  },
  {
   "cell_type": "code",
   "execution_count": 35,
   "metadata": {},
   "outputs": [
    {
     "name": "stderr",
     "output_type": "stream",
     "text": [
      "/var/folders/2q/mfflg7jd005564r5d6qrvy_h0000gn/T/ipykernel_46125/2901215451.py:1: SettingWithCopyWarning: \n",
      "A value is trying to be set on a copy of a slice from a DataFrame\n",
      "\n",
      "See the caveats in the documentation: https://pandas.pydata.org/pandas-docs/stable/user_guide/indexing.html#returning-a-view-versus-a-copy\n",
      "  subgraph_nodes['country'].fillna('unknown',inplace=True)\n"
     ]
    }
   ],
   "source": [
    "subgraph_nodes['country'].fillna('unknown',inplace=True)"
   ]
  },
  {
   "cell_type": "code",
   "execution_count": 9,
   "metadata": {},
   "outputs": [
    {
     "data": {
      "text/plain": [
       "2756"
      ]
     },
     "execution_count": 9,
     "metadata": {},
     "output_type": "execute_result"
    }
   ],
   "source": [
    "subgraph_links=subgraph_links[~(subgraph_links['type']==\"family_relationship\")]\n",
    "len(subgraph_links)"
   ]
  },
  {
   "cell_type": "code",
   "execution_count": 31,
   "metadata": {},
   "outputs": [
    {
     "ename": "TypeError",
     "evalue": "Cannot interpret 'nan' as a data type",
     "output_type": "error",
     "traceback": [
      "\u001b[0;31m---------------------------------------------------------------------------\u001b[0m",
      "\u001b[0;31mTypeError\u001b[0m                                 Traceback (most recent call last)",
      "Cell \u001b[0;32mIn[31], line 1\u001b[0m\n\u001b[0;32m----> 1\u001b[0m np\u001b[39m.\u001b[39;49mdtype(subgraph_nodes\u001b[39m.\u001b[39;49mto_dict(orient\u001b[39m=\u001b[39;49m\u001b[39m'\u001b[39;49m\u001b[39mrecords\u001b[39;49m\u001b[39m'\u001b[39;49m)[\u001b[39m5\u001b[39;49m][\u001b[39m'\u001b[39;49m\u001b[39mcountry\u001b[39;49m\u001b[39m'\u001b[39;49m])\n",
      "\u001b[0;31mTypeError\u001b[0m: Cannot interpret 'nan' as a data type"
     ]
    }
   ],
   "source": [
    "np.dtype(subgraph_nodes.to_dict(orient='records')[5]['country'])"
   ]
  },
  {
   "cell_type": "code",
   "execution_count": 36,
   "metadata": {},
   "outputs": [
    {
     "name": "stdout",
     "output_type": "stream",
     "text": [
      "{'type': 'organization', 'dataset': 'MC1', 'id': '2591586'}\n"
     ]
    }
   ],
   "source": [
    "subgraph_json = {\n",
    "    \"directed\": True,\n",
    "    \"multigraph\": True,\n",
    "    \"graph\": {},\n",
    "    \"nodes\": [],\n",
    "    \"links\": []\n",
    "}\n",
    "nodes_dict=subgraph_nodes.to_dict(orient='records')\n",
    "for node in nodes_dict:\n",
    "    # print(type(node['country']))\n",
    "    if node['country']==\"unknown\":\n",
    "        # print(1)\n",
    "        node.pop('country')\n",
    "print((nodes_dict[5]))\n",
    "subgraph_json['nodes']=nodes_dict\n",
    "subgraph_json['links']=subgraph_links.to_dict(orient='records')\n",
    "\n",
    "with open('subgraph.json', 'w', encoding='utf-8') as f:\n",
    "    f.write(json.dumps(subgraph_json))"
   ]
  }
 ],
 "metadata": {
  "kernelspec": {
   "display_name": "base",
   "language": "python",
   "name": "python3"
  },
  "language_info": {
   "codemirror_mode": {
    "name": "ipython",
    "version": 3
   },
   "file_extension": ".py",
   "mimetype": "text/x-python",
   "name": "python",
   "nbconvert_exporter": "python",
   "pygments_lexer": "ipython3",
   "version": "3.8.13"
  },
  "orig_nbformat": 4
 },
 "nbformat": 4,
 "nbformat_minor": 2
}
