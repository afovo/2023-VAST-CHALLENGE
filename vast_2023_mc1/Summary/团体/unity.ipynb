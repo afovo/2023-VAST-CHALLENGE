{
 "cells": [
  {
   "cell_type": "markdown",
   "source": [
    "## 建图"
   ],
   "metadata": {
    "collapsed": false
   }
  },
  {
   "cell_type": "code",
   "execution_count": 2,
   "outputs": [],
   "source": [
    "import json\n",
    "import networkx as nx\n",
    "import matplotlib.pyplot as plt\n",
    "from collections import Counter\n",
    "import numpy as np\n",
    "import math"
   ],
   "metadata": {
    "collapsed": false
   }
  },
  {
   "cell_type": "code",
   "execution_count": 3,
   "outputs": [],
   "source": [
    "with open('MC1.json', 'r') as file:\n",
    "    json_data = json.load(file)\n",
    "nodes = json_data['nodes']\n",
    "links = json_data['links']"
   ],
   "metadata": {
    "collapsed": false
   }
  },
  {
   "cell_type": "code",
   "execution_count": 4,
   "outputs": [],
   "source": [
    "G = nx.DiGraph()\n",
    "edges = []\n",
    "for link in links:\n",
    "    edges.append((link['source'], link['target']))\n",
    "# edges = list(set(edges))\n",
    "G.add_edges_from(edges)"
   ],
   "metadata": {
    "collapsed": false
   }
  },
  {
   "cell_type": "code",
   "execution_count": 5,
   "outputs": [],
   "source": [
    "suspects = [\"Mar de la Vida OJSC\", \"979893388\", \"Oceanfront Oasis Inc Carriers\", \"8327\"]\n",
    "suspects_add = ['Spanish Shrimp  Carriers', 'Faroe Islands Shrimp Shark', 'b8567859-bf54-49fd-8332-5775e19c65af', 'Mar del Oeste Pic', 'SeaSpray Wave SRL Solutions', 'png xi  Line', '7505050', '435054320', '160']"
   ],
   "metadata": {
    "collapsed": false
   }
  },
  {
   "cell_type": "markdown",
   "source": [
    "### 分类"
   ],
   "metadata": {
    "collapsed": false
   }
  },
  {
   "cell_type": "code",
   "execution_count": 6,
   "outputs": [],
   "source": [
    "category = {'person':[], 'organization':[], 'company':[], 'political_organization':[], 'location':[], 'vessel':[], 'event':[],  'movement':[], 'undefined': []}\n",
    "node_ids = []\n",
    "for node in nodes:\n",
    "    node_ids.append(node['id'])\n",
    "    if 'type' in node.keys():\n",
    "        category[node['type']].append(node['id'])\n",
    "    else:\n",
    "        category['undefined'].append(node['id'])"
   ],
   "metadata": {
    "collapsed": false
   }
  },
  {
   "cell_type": "markdown",
   "source": [
    "## 生成团体"
   ],
   "metadata": {
    "collapsed": false
   }
  },
  {
   "cell_type": "code",
   "execution_count": 7,
   "outputs": [],
   "source": [
    "def unity(node_type, edge_type):\n",
    "    edges = []\n",
    "    for link in links:\n",
    "        if link['source'] in category[node_type] and link['target'] in category[node_type]:\n",
    "            if 'type' in link.keys():\n",
    "                if link['type'] == edge_type:\n",
    "                    edges.append((link['source'], link['target']))\n",
    "\n",
    "    G = nx.DiGraph()\n",
    "    G.add_edges_from(edges)\n",
    "\n",
    "    wcc = list(nx.weakly_connected_components(G))\n",
    "\n",
    "    selected_wcc = list()\n",
    "    isolated_node = list()\n",
    "    cnt = 0\n",
    "    for i in range(len(wcc)):\n",
    "        cnt += len(wcc[i])\n",
    "        selected_wcc.append(wcc[i])\n",
    "        if node_type == 'organization':\n",
    "            if '979893388' in wcc[i]:\n",
    "                print(f'979893388 in wcc_o[{i}]')\n",
    "            if '8327' in wcc[i]:\n",
    "                print(f'8327 in wcc_o[{i}]')\n",
    "    print(f'{node_type}, {edge_type}:')\n",
    "    print(f\"There are {len(selected_wcc)} weakly connected components (size>1).\")\n",
    "    print(f\"There are {cnt} nodes that in selected wcc.(Total:{len(G.nodes)})\")\n",
    "\n",
    "    return selected_wcc"
   ],
   "metadata": {
    "collapsed": false
   }
  },
  {
   "cell_type": "code",
   "execution_count": 8,
   "outputs": [],
   "source": [
    "import matplotlib.pyplot as plt\n",
    "def generate_plot(selected_cc, x, title):\n",
    "    # 柱状图的数据\n",
    "    cc_idx = range(len(selected_cc))\n",
    "    values = [len(temp) for temp in selected_cc]\n",
    "\n",
    "    # 创建柱状图\n",
    "    plt.bar(cc_idx, values)\n",
    "\n",
    "    # 添加标题和轴标签\n",
    "    plt.title(title)\n",
    "    plt.xlabel(x)\n",
    "    plt.ylabel(\"count\")\n",
    "\n",
    "    # 标注数据\n",
    "    for i in range(len(cc_idx)):\n",
    "        plt.text(i, values[i], str(values[i]), ha='center', va='bottom')\n",
    "\n",
    "    # 显示图形\n",
    "    plt.show()"
   ],
   "metadata": {
    "collapsed": false
   }
  },
  {
   "cell_type": "markdown",
   "source": [
    "### person_family"
   ],
   "metadata": {
    "collapsed": false
   }
  },
  {
   "cell_type": "code",
   "execution_count": 9,
   "outputs": [
    {
     "name": "stdout",
     "output_type": "stream",
     "text": [
      "person, family_relationship:\n",
      "There are 120 weakly connected components (size>1).\n",
      "There are 652 nodes that in selected wcc.(Total:652)\n"
     ]
    }
   ],
   "source": [
    "wcc_p = unity('person', 'family_relationship')"
   ],
   "metadata": {
    "collapsed": false
   }
  },
  {
   "cell_type": "code",
   "execution_count": 10,
   "outputs": [
    {
     "data": {
      "text/plain": "<Figure size 640x480 with 1 Axes>",
      "image/png": "[encoded data removed]"
     },
     "metadata": {},
     "output_type": "display_data"
    }
   ],
   "source": [
    "generate_plot(wcc_p, x = \"index of wcc\", title = \"Size of wcc\")"
   ],
   "metadata": {
    "collapsed": false
   }
  },
  {
   "cell_type": "code",
   "execution_count": 11,
   "outputs": [],
   "source": [
    "idx = 0\n",
    "with open(f'Graph\\person_family_relationship.txt', 'w') as file:\n",
    "    for value in wcc_p:\n",
    "        idx += 1\n",
    "        file.write(str(idx) + ': ' + str(value) + '\\n')"
   ],
   "metadata": {
    "collapsed": false
   }
  },
  {
   "cell_type": "markdown",
   "source": [
    "### company_partner"
   ],
   "metadata": {
    "collapsed": false
   }
  },
  {
   "cell_type": "code",
   "execution_count": 12,
   "outputs": [
    {
     "name": "stdout",
     "output_type": "stream",
     "text": [
      "company, partnership:\n",
      "There are 4 weakly connected components (size>1).\n",
      "There are 12 nodes that in selected wcc.(Total:12)\n"
     ]
    }
   ],
   "source": [
    "wcc_c = unity('company', 'partnership')"
   ],
   "metadata": {
    "collapsed": false
   }
  },
  {
   "cell_type": "code",
   "execution_count": 13,
   "outputs": [
    {
     "data": {
      "text/plain": "<Figure size 640x480 with 1 Axes>",
      "image/png": "[encoded data removed]"
     },
     "metadata": {},
     "output_type": "display_data"
    }
   ],
   "source": [
    "generate_plot(wcc_c, x=\"index of wcc\", title=\"Size of wcc\")"
   ],
   "metadata": {
    "collapsed": false
   }
  },
  {
   "cell_type": "code",
   "execution_count": 14,
   "outputs": [],
   "source": [
    "idx = 0\n",
    "with open(f'Graph\\company_partnership.txt', 'w') as file:\n",
    "    for value in wcc_c:\n",
    "        idx += 1\n",
    "        file.write(str(idx) + ': ' + str(value) + '\\n')"
   ],
   "metadata": {
    "collapsed": false
   }
  },
  {
   "cell_type": "markdown",
   "source": [
    "#### company_ownership"
   ],
   "metadata": {
    "collapsed": false
   }
  },
  {
   "cell_type": "code",
   "execution_count": 15,
   "outputs": [
    {
     "name": "stdout",
     "output_type": "stream",
     "text": [
      "company, ownership:\n",
      "There are 3 weakly connected components (size>1).\n",
      "There are 11 nodes that in selected wcc.(Total:11)\n"
     ]
    }
   ],
   "source": [
    "wcc_co = unity('company', 'ownership')"
   ],
   "metadata": {
    "collapsed": false
   }
  },
  {
   "cell_type": "code",
   "execution_count": 16,
   "outputs": [
    {
     "data": {
      "text/plain": "<Figure size 640x480 with 1 Axes>",
      "image/png": "[encoded data removed]"
     },
     "metadata": {},
     "output_type": "display_data"
    }
   ],
   "source": [
    "generate_plot(wcc_co, x=\"index of wcc\", title=\"Size of wcc\")"
   ],
   "metadata": {
    "collapsed": false
   }
  },
  {
   "cell_type": "code",
   "execution_count": 17,
   "outputs": [],
   "source": [
    "idx = 0\n",
    "with open(f'Graph\\company_ownership.txt', 'w') as file:\n",
    "    for value in wcc_co:\n",
    "        idx += 1\n",
    "        file.write(str(idx) + ': ' + str(value) + '\\n')"
   ],
   "metadata": {
    "collapsed": false
   }
  },
  {
   "cell_type": "markdown",
   "source": [
    "#### organization_ownership"
   ],
   "metadata": {
    "collapsed": false
   }
  },
  {
   "cell_type": "code",
   "execution_count": 9,
   "outputs": [
    {
     "name": "stdout",
     "output_type": "stream",
     "text": [
      "979893388 in wcc_o[1]\n",
      "8327 in wcc_o[1]\n",
      "organization, ownership:\n",
      "There are 46 weakly connected components (size>1).\n",
      "There are 261 nodes that in selected wcc.(Total:261)\n"
     ]
    }
   ],
   "source": [
    "wcc_oo = unity('organization', 'ownership')"
   ],
   "metadata": {
    "collapsed": false
   }
  },
  {
   "cell_type": "code",
   "execution_count": 10,
   "outputs": [
    {
     "data": {
      "text/plain": "<Figure size 640x480 with 1 Axes>",
      "image/png": "[encoded data removed]"
     },
     "metadata": {},
     "output_type": "display_data"
    }
   ],
   "source": [
    "generate_plot(wcc_oo, x=\"index of wcc\", title=\"Size of wcc\")"
   ],
   "metadata": {
    "collapsed": false
   }
  },
  {
   "cell_type": "code",
   "execution_count": 48,
   "outputs": [],
   "source": [
    "idx = 0\n",
    "with open(f'Graph\\organization_ownership.txt', 'w') as file:\n",
    "    for value in wcc_oo:\n",
    "        idx += 1\n",
    "        file.write(str(idx) + ': ' + str(value) + '\\n')"
   ],
   "metadata": {
    "collapsed": false
   }
  },
  {
   "cell_type": "markdown",
   "source": [
    "### political_organization_ownership"
   ],
   "metadata": {
    "collapsed": false
   }
  },
  {
   "cell_type": "code",
   "execution_count": 21,
   "outputs": [
    {
     "name": "stdout",
     "output_type": "stream",
     "text": [
      "political_organization, ownership:\n",
      "There are 5 weakly connected components (size>1).\n",
      "There are 12 nodes that in selected wcc.(Total:12)\n"
     ]
    }
   ],
   "source": [
    "wcc_po = unity('political_organization', 'ownership')"
   ],
   "metadata": {
    "collapsed": false
   }
  },
  {
   "cell_type": "code",
   "execution_count": 22,
   "outputs": [
    {
     "data": {
      "text/plain": "<Figure size 640x480 with 1 Axes>",
      "image/png": "[encoded data removed]"
     },
     "metadata": {},
     "output_type": "display_data"
    }
   ],
   "source": [
    "generate_plot(wcc_po, x=\"index of wcc\", title=\"Size of wcc\")"
   ],
   "metadata": {
    "collapsed": false
   }
  },
  {
   "cell_type": "code",
   "execution_count": 23,
   "outputs": [],
   "source": [
    "idx = 0\n",
    "with open(f'Graph\\political_organization_ownership.txt', 'w') as file:\n",
    "    for value in wcc_po:\n",
    "        idx += 1\n",
    "        file.write(str(idx) + ': ' + str(value) + '\\n')"
   ],
   "metadata": {
    "collapsed": false
   }
  },
  {
   "cell_type": "markdown",
   "source": [
    "### （大小>=unity_size）团体间的关系"
   ],
   "metadata": {
    "collapsed": false
   }
  },
  {
   "cell_type": "code",
   "execution_count": 0,
   "outputs": [],
   "source": [
    "wcc = {}\n",
    "wcc['person_family'] = wcc_p\n",
    "wcc['company_own'] = wcc_co\n",
    "wcc['organization_own'] = wcc_oo\n",
    "wcc['p_organization_own'] = wcc_po"
   ],
   "metadata": {
    "collapsed": false
   }
  },
  {
   "cell_type": "code",
   "execution_count": 44,
   "outputs": [
    {
     "name": "stdout",
     "output_type": "stream",
     "text": [
      "9\n"
     ]
    },
    {
     "data": {
      "text/plain": "<Figure size 640x480 with 1 Axes>",
      "image/png": "[encoded data removed]"
     },
     "metadata": {},
     "output_type": "display_data"
    },
    {
     "name": "stdout",
     "output_type": "stream",
     "text": [
      "!\n"
     ]
    }
   ],
   "source": [
    "unity_size = 6\n",
    "\n",
    "G = nx.DiGraph()\n",
    "node_new = []\n",
    "node_size = []\n",
    "node2color = []\n",
    "node_all = []\n",
    "\n",
    "for key, value in wcc.items():\n",
    "    for i in range(len(value)):\n",
    "        if len(value[i]) >= unity_size:\n",
    "            node_all.append(f'unity_{key}{i}')\n",
    "print(len(node_all))\n",
    "\n",
    "edges_new = []\n",
    "edge_t = {'membership':[], 'partnership':[], 'ownership':[], 'family_relationship':[], 'undefined':[]}\n",
    "edge_width = {'membership':[], 'partnership':[], 'ownership':[], 'family_relationship':[]}\n",
    "\n",
    "for link in links:\n",
    "    node1 = link['source']\n",
    "    node2 = link['target']\n",
    "    key1 = 'undefined'\n",
    "    key2 = 'undefined'\n",
    "    size1 = 1\n",
    "    size2 = 1\n",
    "    link_type = 'undefined'\n",
    "    if 'type' in link.keys():\n",
    "        link_type = link['type']\n",
    "    flag1 = False\n",
    "    flag2 = False\n",
    "    for key, value in wcc.items():\n",
    "        for i in range(len(value)):\n",
    "            if len(value[i]) >= unity_size:\n",
    "                if link['source'] in value[i]:\n",
    "                    node1 = f'unity_{key}{i}'\n",
    "                    key1 = key\n",
    "                    flag1 = True\n",
    "                    size1 = len(value[i])\n",
    "                if link['target'] in value[i]:\n",
    "                    node2 = f'unity_{key}{i}'\n",
    "                    key2 = key\n",
    "                    flag2 = True\n",
    "                    size2 = len(value[i])\n",
    "                if flag1 and flag2:\n",
    "                    break\n",
    "\n",
    "    # 边的粗细\n",
    "    if node1 != node2 and flag1 and flag2:\n",
    "        if node1 not in node_new:\n",
    "            node_new.append(node1)\n",
    "            node_size.append(size1)\n",
    "            if key1 == 'person_family':\n",
    "                node2color.append('blue')\n",
    "            if key1 == 'company_own':\n",
    "                node2color.append('green')\n",
    "            if key1 == 'organization_own':\n",
    "                node2color.append('yellow')\n",
    "            if key1 == 'p_organization_own':\n",
    "                node2color.append('purple')\n",
    "        if node2 not in node_new:\n",
    "            node_new.append(node2)\n",
    "            node_size.append(size2)\n",
    "            if key2 == 'person_family':\n",
    "                node2color.append('blue')\n",
    "            if key2 == 'company_own':\n",
    "                node2color.append('green')\n",
    "            if key2 == 'organization_own':\n",
    "                node2color.append('yellow')\n",
    "            if key2 == 'p_organization_own':\n",
    "                node2color.append('purple')\n",
    "\n",
    "        if (node1, node2) not in edge_t[link_type]:\n",
    "            edge_t[link_type].append((node1, node2))\n",
    "            edge_width[link_type].append(1)\n",
    "        else:\n",
    "            idx = edge_t[link_type].index((node1, node2))\n",
    "            edge_width[link_type][idx]+=1\n",
    "\n",
    "for name in node_all:\n",
    "    if name not in node_new:\n",
    "        node_new.append(name)\n",
    "        node_size.append(0.5)\n",
    "        if name[7] == 'e':\n",
    "            node2color.append('blue')\n",
    "        if name[7] == 'o':\n",
    "            node2color.append('green')\n",
    "        if name[7] == 'r':\n",
    "            node2color.append('yellow')\n",
    "        if name[7] == '_':\n",
    "            node2color.append('purple')\n",
    "\n",
    "G.add_nodes_from(node_all)\n",
    "\n",
    "for key, value in edge_t.items():\n",
    "    edges_new += value\n",
    "\n",
    "G.add_edges_from(edges_new)\n",
    "\n",
    "node_size = [100*np.log(1.005*((x - min(node_size)) / (max(node_size) - min(node_size)) + 1.0001)) for x in node_size]\n",
    "\n",
    "# 标准化\n",
    "for key, value in edge_width.items():\n",
    "    min_val = min(value)    # 找到列表中的最小值\n",
    "    max_val = max(value)    # 找到列表中的最大值0\n",
    "\n",
    "    edge_width[key] = [np.log((x - min_val) / (max_val - min_val) + 1.0001) for x in value]\n",
    "\n",
    "# Draw the graph\n",
    "pos = nx.circular_layout(G)   # random_layout、circular_layout、shell_layout、spring_layout\n",
    "\n",
    "nx.draw_networkx_nodes(G, pos=pos, nodelist=node_new, node_color=node2color, node_size=node_size)\n",
    "\n",
    "# 添加节点标签\n",
    "nx.draw_networkx_labels(G, pos=pos, font_size=2)\n",
    "\n",
    "# Add edge labels using a loop\n",
    "edge2color = {'membership':'red', 'partnership':'blue', 'ownership':'green', 'family_relationship':'yellow', 'undefined':'grey'}\n",
    "\n",
    "for key, value in edge_t.items():\n",
    "    for i in range(len(value)):\n",
    "        nx.draw_networkx_edges(G, pos=pos, edgelist=[value[i]], width = edge_width[key][i], edge_color=edge2color[key], arrowsize=2.5, connectionstyle=f'arc3,rad={0.05+0.01*i}')\n",
    "\n",
    "plt.axis('off')\n",
    "plt.title(f'Graph of size>={unity_size} unities', fontsize=9)\n",
    "text = f'Total:{len(node_new)}\\n'\n",
    "text += f'Edge:\\n'\n",
    "text += f'membership:red\\npartnership:blue\\nownership:green\\nfamily_relationship:yellow\\nundefined:grey'\n",
    "\n",
    "plt.text(-1, 0.9, text, fontsize=5)\n",
    "\n",
    "plt.savefig(f'Graph\\size_{unity_size}_unities(circular).pdf')\n",
    "\n",
    "plt.show()"
   ],
   "metadata": {
    "collapsed": false
   }
  },
  {
   "cell_type": "markdown",
   "source": [
    "## 团体的一阶邻居"
   ],
   "metadata": {
    "collapsed": false
   }
  },
  {
   "cell_type": "code",
   "execution_count": null,
   "outputs": [],
   "source": [
    "node2type = {}\n",
    "for n in nodes:\n",
    "    if 'type' in n.keys():\n",
    "        node2type[n['id']] = n['type']\n",
    "    else:\n",
    "        node2type[n['id']] = 'undefined'"
   ],
   "metadata": {
    "collapsed": false
   }
  },
  {
   "cell_type": "code",
   "execution_count": null,
   "outputs": [],
   "source": [
    "def draw_familynet(node2type, links, wcc, nodetype, edgetpe, index):\n",
    "    G = nx.DiGraph()\n",
    "\n",
    "    node_normal = []\n",
    "    edges = []\n",
    "    edges_width = []\n",
    "    count = {'person':0, 'organization':0, 'company':0, 'political_organization':0, 'location':0, 'vessel':0, 'event':0, 'movement':0 , 'undefined':0}\n",
    "\n",
    "    for link in links:\n",
    "        node1 = link['source']\n",
    "        node2 = link['target']\n",
    "        if node1 in wcc[nodetype][index] and node2 not in wcc[nodetype][index]:\n",
    "            node1 = f'unity_{edgetpe}{index}'\n",
    "        if node2 in wcc[nodetype][index] and node1 not in wcc[nodetype][index]:\n",
    "            node2 = f'unity_{edgetpe}{index}'\n",
    "\n",
    "        if node1 == f'unity_{edgetpe}{index}' or node2 == f'unity_{edgetpe}{index}':\n",
    "            if (node1, node2) not in edges:\n",
    "                edges.append((node1, node2))\n",
    "                edges_width.append(1)\n",
    "            else:\n",
    "                i = edges.index((node1, node2))\n",
    "                edges_width[i] += 1\n",
    "\n",
    "            if node1 not in node_normal:\n",
    "                node_normal.append(node1)\n",
    "                if node1 != f'unity_{edgetpe}{index}':\n",
    "                    count[node2type[node1]] += 1\n",
    "            if node2 not in node_normal:\n",
    "                node_normal.append(node2)\n",
    "                if node2 != f'unity_{edgetpe}{index}':\n",
    "                    count[node2type[node2]] += 1\n",
    "\n",
    "    # 将列表转换为NumPy数组\n",
    "    edges_width = np.array(edges_width)\n",
    "    #\n",
    "    # 对数组进行正则化\n",
    "    edges_width = 1.0*edges_width / np.sum(edges_width)\n",
    "    if len(G.nodes) > 5:\n",
    "        edges_width *= 5.0\n",
    "\n",
    "    # 添加边\n",
    "    G.add_edges_from(edges)\n",
    "\n",
    "    # 确定节点位置布局\n",
    "    pos = nx.spring_layout(G)\n",
    "\n",
    "    # 绘制节点和边\n",
    "    nx.draw_networkx_nodes(G, pos, nodelist=node_normal, node_color='blue', node_size=25)\n",
    "    nx.draw_networkx_edges(G, pos, width=edges_width, arrowsize=2.5,connectionstyle='arc3,rad=0.2')    #, arrowstyle='->'\n",
    "\n",
    "    # 添加节点标签edges_width\n",
    "    nx.draw_networkx_labels(G, pos, font_size=2.5)\n",
    "\n",
    "    # 显示图形\n",
    "    plt.title(f'Unity network({index})', fontsize=9)\n",
    "\n",
    "    plt.axis('off')\n",
    "\n",
    "    text = f'Nodes:{len(G.nodes)}\\n'\n",
    "    for key, value in count.items():\n",
    "        text += str(key) + \": \" + str(value) +'\\n'\n",
    "    plt.text(-1.1, 0.72, text, fontsize=4)\n",
    "\n",
    "    plt.savefig(f\"Graph\\\\network({edgetpe}{index}).pdf\")\n",
    "\n",
    "    plt.show()"
   ],
   "metadata": {
    "collapsed": false
   }
  },
  {
   "cell_type": "code",
   "execution_count": null,
   "outputs": [],
   "source": [
    "# for i in range(0, 10):\n",
    "#     draw_familynet(node2type ,links, wcc, 'person', 'family', i)"
   ],
   "metadata": {
    "collapsed": false
   }
  },
  {
   "cell_type": "code",
   "execution_count": null,
   "outputs": [],
   "source": [
    "draw_familynet(node2type ,links, wcc, 'company', 'company_partner', 4)"
   ],
   "metadata": {
    "collapsed": false
   }
  }
 ],
 "metadata": {
  "kernelspec": {
   "display_name": "Python 3",
   "language": "python",
   "name": "python3"
  },
  "language_info": {
   "codemirror_mode": {
    "name": "ipython",
    "version": 2
   },
   "file_extension": ".py",
   "mimetype": "text/x-python",
   "name": "python",
   "nbconvert_exporter": "python",
   "pygments_lexer": "ipython2",
   "version": "2.7.6"
  }
 },
 "nbformat": 4,
 "nbformat_minor": 0
}
