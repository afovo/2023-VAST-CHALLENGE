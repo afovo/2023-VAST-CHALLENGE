{
 "cells": [
  {
   "cell_type": "markdown",
   "source": [
    "# 建图"
   ],
   "metadata": {
    "collapsed": false
   }
  },
  {
   "cell_type": "code",
   "execution_count": null,
   "outputs": [],
   "source": [
    "import json\n",
    "import networkx as nx\n",
    "import matplotlib.pyplot as plt\n",
    "from collections import Counter\n",
    "import numpy as np\n",
    "import math"
   ],
   "metadata": {
    "collapsed": false
   }
  },
  {
   "cell_type": "code",
   "execution_count": null,
   "outputs": [],
   "source": [
    "with open('MC1.json', 'r') as file:\n",
    "    json_data = json.load(file)\n",
    "nodes = json_data['nodes']\n",
    "links = json_data['links']"
   ],
   "metadata": {
    "collapsed": false
   }
  },
  {
   "cell_type": "code",
   "execution_count": null,
   "outputs": [],
   "source": [
    "G = nx.DiGraph()\n",
    "edges = []\n",
    "for link in links:\n",
    "    edges.append((link['source'], link['target']))\n",
    "edges = list(set(edges))\n",
    "G.add_edges_from(edges)"
   ],
   "metadata": {
    "collapsed": false
   }
  },
  {
   "cell_type": "code",
   "execution_count": null,
   "metadata": {},
   "outputs": [],
   "source": [
    "suspects  = [\"Mar de la Vida OJSC\", \"979893388\", \"Oceanfront Oasis Inc Carriers\", \"8327\"]"
   ]
  },
  {
   "cell_type": "markdown",
   "metadata": {},
   "source": [
    "# 在指定长度内统计环的数量"
   ]
  },
  {
   "cell_type": "code",
   "execution_count": null,
   "metadata": {},
   "outputs": [],
   "source": [
    "def dfs_paths(graph, start_node, current_node, steps_left, visited, path, all_paths, suspect):\n",
    "    suspect_copy = suspect.copy()\n",
    "    if (current_node in [\"Mar de la Vida OJSC\", \"979893388\", \"Oceanfront Oasis Inc Carriers\", \"8327\"]) and (current_node not in suspect):\n",
    "        suspect_copy.append(current_node)\n",
    "\n",
    "    if steps_left == 0 and current_node == start_node:\n",
    "        all_paths[len(suspect_copy)][0].append(path + [current_node])  # 找到了符合条件的路径\n",
    "        if len(suspect_copy) == 1:\n",
    "            if suspect_copy[0] == \"Mar de la Vida OJSC\":\n",
    "                all_paths[1][1][0]+=1\n",
    "            elif suspect_copy[0] == \"979893388\":\n",
    "                all_paths[1][1][1]+=1\n",
    "            elif suspect_copy[0] == \"8327\":\n",
    "                all_paths[1][1][2]+=1\n",
    "        elif len(suspect_copy) == 2:\n",
    "            if (suspect_copy[0] == \"Mar de la Vida OJSC\" and suspect_copy[1] ==  \"979893388\") or (suspect_copy[1] == \"Mar de la Vida OJSC\" and suspect_copy[0] ==  \"979893388\"):\n",
    "                all_paths[2][1][0]+=1\n",
    "            elif (suspect_copy[0] == \"Mar de la Vida OJSC\" and suspect_copy[1] ==  \"8327\") or (suspect_copy[1] == \"Mar de la Vida OJSC\" and suspect_copy[0] ==  \"8327\"):\n",
    "                all_paths[2][1][1]+=1\n",
    "            elif (suspect_copy[0] == \"979893388\" and suspect_copy[1] == \"8327\") or (suspect_copy[1] == \"979893388\" and suspect_copy[0] ==  \"8327\"):\n",
    "                all_paths[2][1][2]+=1\n",
    "        else:  # 0或者3\n",
    "            all_paths[len(suspect_copy)][1][0]+=1\n",
    "\n",
    "    if current_node in visited or steps_left < 0:\n",
    "        return  # 终止递归\n",
    "\n",
    "    visited.add(current_node)\n",
    "    next_nodes = graph[current_node]\n",
    "    for next_node in next_nodes:\n",
    "        dfs_paths(graph, start_node, next_node, steps_left - 1, visited, path + [current_node], all_paths, suspect_copy)\n",
    "    visited.remove(current_node)\n",
    "\n",
    "\n",
    "def find_all_cycles(graph, start_node, num_steps):\n",
    "    visited = set()\n",
    "    all_paths = [[[],[0]], [[],[0,0,0]], [[],[0,0,0]], [[],[0]]]   #存0个，1个(M, 9, 8)，2个(M,+9 M+8, 9+8)，3个,（4个无）\n",
    "    dfs_paths(graph, start_node, start_node, num_steps, visited, [], all_paths, [])\n",
    "    return all_paths"
   ]
  },
  {
   "cell_type": "code",
   "execution_count": null,
   "metadata": {},
   "outputs": [],
   "source": [
    "def count_cycles(G, node, start_length, end_length):\n",
    "    X = np.arange(start_length, end_length+1)\n",
    "    count = [[], [], [], []]\n",
    "    record = []\n",
    "    for x in X:\n",
    "        all_paths = find_all_cycles(G, node, x)  # [[], [], [], []]\n",
    "        paths = []\n",
    "        for i in range(len(all_paths)):\n",
    "            paths.append(all_paths[i][0])\n",
    "        record.append(paths)\n",
    "\n",
    "        for i in range(len(paths)):\n",
    "            count[i].append(all_paths[i][1])\n",
    "\n",
    "    print(\"Details of count:\")\n",
    "    for i in range(len(count)):\n",
    "        print(count[i])\n",
    "\n",
    "    return count"
   ]
  },
  {
   "cell_type": "code",
   "execution_count": null,
   "outputs": [],
   "source": [
    "def count_plot(count_detail, node, start_length, end_length):\n",
    "    X = np.arange(start_length, end_length+1)\n",
    "\n",
    "    width = 0.3\n",
    "\n",
    "    count = [[],[],[],[]]\n",
    "    for i in range(len(count_detail)):\n",
    "        for j in range(len(count_detail[i])):\n",
    "           count[i].append(np.sum(count_detail[i][j]))\n",
    "\n",
    "    print(\"----------------------------\\nCount:\")\n",
    "    for c in count:\n",
    "        print(c)\n",
    "    print(\"----------------------------\")\n",
    "\n",
    "    p1 = plt.bar(X, count[0], width)#, yerr=menStd)\n",
    "\n",
    "    p2 = plt.bar(X, count[1], width, bottom=count[0])#, yerr=womenStd)\n",
    "\n",
    "    temp = [count[0],[],[],[]]\n",
    "    for i in range(0,len(count[0])):\n",
    "        sum = count[0][i] + count[1][i]\n",
    "        temp[1].append(sum)\n",
    "\n",
    "    p3 = plt.bar(X, count[2], width, bottom=temp[1])\n",
    "\n",
    "    for i in range(0,len(count[0])):\n",
    "        sum = temp[1][i] + count[2][i]\n",
    "        temp[2].append(sum)\n",
    "\n",
    "    p4 = plt.bar(X, count[3], width, bottom=temp[2])\n",
    "\n",
    "    for i in range(0,len(count[0])):\n",
    "        sum = temp[2][i] + count[3][i]\n",
    "        temp[3].append(sum)\n",
    "\n",
    "    a = max(temp[3])\n",
    "\n",
    "    plt.ylabel('Length')\n",
    "    plt.ylabel('Count')\n",
    "    plt.title(f'Counts of cycles of lenth {start_length} to {end_length} ({node})')\n",
    "    plt.xticks(X)\n",
    "    plt.yticks([0, math.ceil(1.1*a)])\n",
    "    plt.legend((p1[0], p2[0], p3[0], p4[0]), ('0 suspect', '1 suspect', '2 suspect', '3 suspect'))\n",
    "\n",
    "    # 标注数据\n",
    "    for i in range(len(X)):\n",
    "        for j in range(len(count)):\n",
    "            x = X[i]\n",
    "            y = count[j][i]\n",
    "            if y!=0:\n",
    "                if y == 1:\n",
    "                    plt.text(x, temp[j][i]-0.75, str(y)+\"\\n\"+str(count_detail[j][i]), ha='center', va='bottom')\n",
    "                else:\n",
    "                    plt.text(x, temp[j][i]-2, str(y)+\"\\n\"+str(count_detail[j][i]), ha='center', va='bottom')\n",
    "\n",
    "    # 显示图形\n",
    "    plt.show()"
   ],
   "metadata": {
    "collapsed": false
   }
  },
  {
   "cell_type": "code",
   "execution_count": null,
   "outputs": [],
   "source": [
    "def detail_plot(count_detail, node, start_length, end_length):\n",
    "    labels_1 = [\"Mar de la Vida OJSC\", \"979893388\", \"8327\"]\n",
    "    labels_2 = [\"Mar de la Vida OJSC and 979893388\", \"Mar de la Vida OJSC and 8327\", \"979893388 and 8327\"]\n",
    "\n",
    "    for i in range(end_length-start_length+1):\n",
    "        if node not in labels_1:\n",
    "            if np.sum(count_detail[1][i])!=0:\n",
    "                plt.pie(count_detail[1][i], labels=labels_1, autopct='%1.1f%%', shadow=True)\n",
    "                plt.title(f\"1 suspected entries [length {i+start_length}]({node})\")\n",
    "                plt.show()\n",
    "            if np.sum(count_detail[2][i])!=0:\n",
    "                # 在第二个子图上绘制饼状图\n",
    "                plt.pie(count_detail[2][i], labels=labels_2, autopct='%1.1f%%', startangle=90, shadow=True)\n",
    "                plt.title(f\"2 suspected entries [length {i+start_length}]({node})\")\n",
    "                plt.show()\n",
    "        else:\n",
    "            if np.sum(count_detail[2][i])!=0:\n",
    "                plt.pie(count_detail[2][i], labels=labels_2, autopct='%1.1f%%', startangle=90, shadow=True)\n",
    "                plt.title(f\"2 suspected entries [length {i+start_length}]({node})\")\n",
    "                plt.show()\n",
    "\n",
    "        # 显示图表\n",
    "        # plt.show()"
   ],
   "metadata": {
    "collapsed": false
   }
  },
  {
   "cell_type": "markdown",
   "metadata": {},
   "source": [
    "### 测试运行时间"
   ]
  },
  {
   "cell_type": "code",
   "execution_count": null,
   "metadata": {},
   "outputs": [],
   "source": [
    "# import time\n",
    "#\n",
    "# start_time = time.time()\n",
    "#\n",
    "# paths = find_all_cycles(G, suspects[0], 8)\n",
    "# print(f\"There are {len(paths)} cycles of length 8 ({suspects[0]})\")\n",
    "#\n",
    "# end_time = time.time()\n",
    "# elapsed_time = end_time - start_time\n",
    "# print(f\"程序运行时间：{elapsed_time}秒\")"
   ]
  },
  {
   "cell_type": "markdown",
   "source": [
    "### 可疑点环的统计数据"
   ],
   "metadata": {
    "collapsed": false
   }
  },
  {
   "cell_type": "code",
   "execution_count": null,
   "metadata": {},
   "outputs": [],
   "source": [
    "count1 = count_cycles(G, suspects[0], start_length=2, end_length=7)\n",
    "count_plot(count1, suspects[0], start_length=2, end_length=7)"
   ]
  },
  {
   "cell_type": "code",
   "execution_count": null,
   "outputs": [],
   "source": [
    "detail_plot(count1, suspects[0],start_length=2, end_length=7)"
   ],
   "metadata": {
    "collapsed": false
   }
  },
  {
   "cell_type": "code",
   "execution_count": null,
   "metadata": {},
   "outputs": [],
   "source": [
    "count2 = count_cycles(G, suspects[1], start_length=2, end_length=7)\n",
    "count_plot(count2, suspects[1], start_length=2, end_length=7)"
   ]
  },
  {
   "cell_type": "code",
   "execution_count": null,
   "outputs": [],
   "source": [
    "detail_plot(count2, suspects[1],start_length=2, end_length=7)"
   ],
   "metadata": {
    "collapsed": false
   }
  },
  {
   "cell_type": "code",
   "execution_count": null,
   "metadata": {},
   "outputs": [],
   "source": [
    "count3 = count_cycles(G, suspects[2], start_length=2, end_length=7)\n",
    "count_plot(count3, suspects[2], start_length=2, end_length=7)"
   ]
  },
  {
   "cell_type": "code",
   "execution_count": null,
   "metadata": {},
   "outputs": [],
   "source": [
    "count4 = count_cycles(G, suspects[3], start_length=2, end_length=7)\n",
    "count_plot(count4, suspects[3], start_length=2, end_length=7)"
   ]
  },
  {
   "cell_type": "code",
   "execution_count": null,
   "outputs": [],
   "source": [
    "detail_plot(count4, suspects[3],start_length=2, end_length=7)"
   ],
   "metadata": {
    "collapsed": false
   }
  },
  {
   "cell_type": "markdown",
   "metadata": {},
   "source": [
    "### Others"
   ]
  },
  {
   "cell_type": "code",
   "execution_count": null,
   "metadata": {},
   "outputs": [],
   "source": [
    "count5 = count_cycles(G, '7775', start_length=2, end_length=7)\n",
    "count_plot(count5, '7775', start_length=2, end_length=7)"
   ]
  },
  {
   "cell_type": "code",
   "execution_count": null,
   "outputs": [],
   "source": [
    "detail_plot(count5, '7775', start_length=2, end_length=7)"
   ],
   "metadata": {
    "collapsed": false
   }
  },
  {
   "cell_type": "code",
   "execution_count": null,
   "metadata": {},
   "outputs": [],
   "source": [
    "count6 = count_cycles(G, 'png xi  Line', start_length=2, end_length=5)\n",
    "count_plot(count6, 'png xi  Line', start_length=2, end_length=5)"
   ]
  },
  {
   "cell_type": "code",
   "execution_count": null,
   "outputs": [],
   "source": [
    "detail_plot(count6, 'png xi  Line', start_length=2, end_length=5)"
   ],
   "metadata": {
    "collapsed": false
   }
  },
  {
   "cell_type": "code",
   "execution_count": null,
   "metadata": {},
   "outputs": [],
   "source": [
    "count7 = count_cycles(G, '1', start_length=2, end_length=7)\n",
    "count_plot(count7, '1', start_length=2, end_length=7)"
   ]
  },
  {
   "cell_type": "code",
   "execution_count": null,
   "outputs": [],
   "source": [
    "detail_plot(count7, '1', start_length=2, end_length=7)"
   ],
   "metadata": {
    "collapsed": false
   }
  },
  {
   "cell_type": "markdown",
   "metadata": {},
   "source": [
    "# 在指定阶数内统计不同长度环的数量"
   ]
  },
  {
   "cell_type": "code",
   "execution_count": null,
   "metadata": {},
   "outputs": [],
   "source": [
    "def find_cycles(graph, node, order):\n",
    "    # 筛选指定阶数邻居\n",
    "    # 将有向图转为无向图\n",
    "    graph = graph.to_undirected()\n",
    "\n",
    "    # 获取节点列表\n",
    "    neighbor_graph = nx.ego_graph(graph, node, radius = order,  undirected=True)\n",
    "    neighbors = list(neighbor_graph.nodes())\n",
    "\n",
    "    print(f\"There are {len(neighbors)} neighbours. ({order})\")\n",
    "\n",
    "    # 指定阶数内的子图\n",
    "    G_ego = nx.DiGraph()\n",
    "    edges_ego = []\n",
    "    for link in links:\n",
    "        if link['source'] in neighbors and link['target'] in neighbors:\n",
    "            edges_ego.append((link['source'], link['target']))\n",
    "    G_ego.add_edges_from(edges_ego)\n",
    "\n",
    "    # 指定阶数内的环列表\n",
    "    cycles = nx.simple_cycles(G_ego)\n",
    "\n",
    "    selected_cycles = []\n",
    "    try:\n",
    "        cycle = next(cycles)\n",
    "        while cycle:\n",
    "            if node in cycle:\n",
    "                selected_cycles.append(cycle)\n",
    "                #print(cycle)\n",
    "            cycle = next(cycles, None)\n",
    "\n",
    "    except StopIteration:\n",
    "        print(\"There is no cycle.\")\n",
    "\n",
    "    return selected_cycles"
   ]
  },
  {
   "cell_type": "code",
   "execution_count": null,
   "metadata": {},
   "outputs": [],
   "source": [
    "def histogram_plot(cycles, node, order):\n",
    "    if len(cycles) != 0:\n",
    "        # 柱状图的数据\n",
    "        idx = range(len(cycles))\n",
    "        lengths = [len(c) for c in cycles]\n",
    "\n",
    "        # 创建柱状图\n",
    "        plt.bar(idx, lengths)\n",
    "\n",
    "        # 添加标题和轴标签\n",
    "        plt.title(f\"Length of cycles in {order}th neighborhoods of {node}\")\n",
    "        plt.xlabel(\"index\")\n",
    "        plt.ylabel(\"Length\")\n",
    "\n",
    "        # 标注数据\n",
    "        for i in range(len(idx)):\n",
    "            plt.text(i, lengths[i], str(lengths[i]), ha='center', va='bottom')\n",
    "\n",
    "        # 显示图形\n",
    "        plt.show()\n",
    "    else:\n",
    "        print(\"None\")\n",
    "\n",
    "def piechart_plot(cycles, node, order):\n",
    "    if len(cycles) != 0:\n",
    "        # 饼图数据\n",
    "        lengths = [len(c) for c in cycles]\n",
    "\n",
    "        count = Counter(lengths)\n",
    "        labels = []\n",
    "        sizes = []\n",
    "        for value, frequency in count.items():\n",
    "            labels.append(value)\n",
    "            #sizes.append(100.0*frequency/len(lengths))\n",
    "            sizes.append(frequency)\n",
    "\n",
    "        plt.pie(sizes, labels=labels, autopct='%1.1f%%')\n",
    "        plt.title(f\"Pie Chart of Length Statistics of cycles in {order}th neighborhoods of {node}\")\n",
    "        plt.show()\n",
    "    else:\n",
    "        print(\"None\")"
   ]
  },
  {
   "cell_type": "markdown",
   "metadata": {},
   "source": [
    "### \"Mar de la Vida OJSC\""
   ]
  },
  {
   "cell_type": "code",
   "execution_count": null,
   "metadata": {},
   "outputs": [],
   "source": [
    "node = suspects[0]\n",
    "order = 1\n",
    "cycles = find_cycles(G, node, order)\n",
    "print(cycles)"
   ]
  },
  {
   "cell_type": "code",
   "execution_count": null,
   "metadata": {},
   "outputs": [],
   "source": [
    "histogram_plot(cycles, node, order)"
   ]
  },
  {
   "cell_type": "code",
   "execution_count": null,
   "metadata": {},
   "outputs": [],
   "source": [
    "piechart_plot(cycles, node, order)"
   ]
  },
  {
   "cell_type": "markdown",
   "metadata": {},
   "source": [
    "### \"979893388\""
   ]
  },
  {
   "cell_type": "code",
   "execution_count": null,
   "metadata": {},
   "outputs": [],
   "source": [
    "node = suspects[1]\n",
    "order = 1\n",
    "cycles = find_cycles(G, node, order)\n",
    "#print(cycles)"
   ]
  },
  {
   "cell_type": "code",
   "execution_count": null,
   "metadata": {},
   "outputs": [],
   "source": [
    "histogram_plot(cycles, node, order)"
   ]
  },
  {
   "cell_type": "code",
   "execution_count": null,
   "metadata": {},
   "outputs": [],
   "source": [
    "piechart_plot(cycles, node, order)"
   ]
  },
  {
   "cell_type": "markdown",
   "metadata": {},
   "source": [
    "### \"Oceanfront Oasis Inc Carriers\""
   ]
  },
  {
   "cell_type": "code",
   "execution_count": null,
   "metadata": {},
   "outputs": [],
   "source": [
    "node = suspects[2]\n",
    "order = 1\n",
    "cycles = find_cycles(G, node, order)\n",
    "#print(cycles)"
   ]
  },
  {
   "cell_type": "code",
   "execution_count": null,
   "metadata": {},
   "outputs": [],
   "source": [
    "histogram_plot(cycles, node, order)"
   ]
  },
  {
   "cell_type": "code",
   "execution_count": null,
   "metadata": {},
   "outputs": [],
   "source": [
    "piechart_plot(cycles, node, order)"
   ]
  },
  {
   "cell_type": "markdown",
   "metadata": {},
   "source": [
    "### \"8327\""
   ]
  },
  {
   "cell_type": "code",
   "execution_count": null,
   "metadata": {},
   "outputs": [],
   "source": [
    "node = suspects[3]\n",
    "order = 1\n",
    "cycles = find_cycles(G, node, order)\n",
    "#print(cycles)"
   ]
  },
  {
   "cell_type": "code",
   "execution_count": null,
   "metadata": {},
   "outputs": [],
   "source": [
    "histogram_plot(cycles, node, order)"
   ]
  },
  {
   "cell_type": "code",
   "execution_count": null,
   "metadata": {},
   "outputs": [],
   "source": [
    "piechart_plot(cycles, node, order)"
   ]
  },
  {
   "cell_type": "markdown",
   "metadata": {},
   "source": [
    "### Others"
   ]
  },
  {
   "cell_type": "code",
   "execution_count": null,
   "metadata": {},
   "outputs": [],
   "source": [
    "node = \"7775\"\n",
    "order = 1\n",
    "cycles = find_cycles(G, node, order)\n",
    "#print(cycles)"
   ]
  },
  {
   "cell_type": "code",
   "execution_count": null,
   "metadata": {},
   "outputs": [],
   "source": [
    "histogram_plot(cycles, node, order)"
   ]
  },
  {
   "cell_type": "code",
   "execution_count": null,
   "metadata": {},
   "outputs": [],
   "source": [
    "piechart_plot(cycles, node, order)"
   ]
  },
  {
   "cell_type": "code",
   "execution_count": null,
   "metadata": {},
   "outputs": [],
   "source": [
    "node = \"1\"\n",
    "order = 1\n",
    "cycles = find_cycles(G, node, order)\n",
    "#print(cycles)"
   ]
  },
  {
   "cell_type": "code",
   "execution_count": null,
   "metadata": {},
   "outputs": [],
   "source": [
    "histogram_plot(cycles, node, order)"
   ]
  },
  {
   "cell_type": "code",
   "execution_count": null,
   "metadata": {},
   "outputs": [],
   "source": [
    "piechart_plot(cycles, node, order)"
   ]
  },
  {
   "cell_type": "code",
   "execution_count": null,
   "metadata": {},
   "outputs": [],
   "source": [
    "node = \"png xi  Line\"\n",
    "order = 1\n",
    "cycles = find_cycles(G, node, order)\n",
    "#print(cycles)"
   ]
  },
  {
   "cell_type": "code",
   "execution_count": null,
   "metadata": {},
   "outputs": [],
   "source": [
    "histogram_plot(cycles, node, order)"
   ]
  },
  {
   "cell_type": "code",
   "execution_count": null,
   "metadata": {},
   "outputs": [],
   "source": [
    "piechart_plot(cycles, node, order)"
   ]
  },
  {
   "cell_type": "markdown",
   "source": [
    "# 环的可视化"
   ],
   "metadata": {
    "collapsed": false
   }
  },
  {
   "cell_type": "code",
   "execution_count": null,
   "outputs": [],
   "source": [
    "def draw_cycles(G, node, length, include = None):\n",
    "    paths = find_all_cycles(G, node, length)\n",
    "\n",
    "    G_cycles = nx.DiGraph()\n",
    "\n",
    "    node_cycles = []\n",
    "    node_suspect = []\n",
    "    edges_cycles = []\n",
    "    edges_width = []\n",
    "    cnt = 0\n",
    "    cnt_include = 0\n",
    "    record = {}\n",
    "    record['Total'] = 0\n",
    "    for i in [0,1,2,3]:\n",
    "        for path in paths[i][0]:\n",
    "            cnt += 1\n",
    "            if include is None:\n",
    "                node1 = None\n",
    "                node2 = None\n",
    "                for n in path:\n",
    "                    if n not in suspects:\n",
    "                        if n not in node_cycles:\n",
    "                            node_cycles.append(n)\n",
    "                            record[n] = 1\n",
    "                        else:\n",
    "                            record[n] += 1\n",
    "                    else:\n",
    "                        if n not in node_suspect:\n",
    "                            node_suspect.append(n)\n",
    "                    if node1 is None:\n",
    "                        node1 = n\n",
    "                    else:\n",
    "                        node2 = node1\n",
    "                        node1 = n\n",
    "                        if (node2, node1) in edges_cycles:\n",
    "                            idx = edges_cycles.index((node2, node1))\n",
    "                            edges_width[idx] += 1\n",
    "                        else:\n",
    "                            edges_cycles.append((node2,node1))\n",
    "                            edges_width.append(1)\n",
    "            else:\n",
    "                if include in path:\n",
    "                    cnt_include += 1\n",
    "                    node1 = None\n",
    "                    node2 = None\n",
    "                    for n in path:\n",
    "                        if n not in suspects:\n",
    "                            if n not in node_cycles:\n",
    "                                node_cycles.append(n)\n",
    "                                record[n] = 1\n",
    "                            else:\n",
    "                                record[n] += 1\n",
    "                        else:\n",
    "                            if n not in node_suspect:\n",
    "                                node_suspect.append(n)\n",
    "\n",
    "                        if node1 is None:\n",
    "                            node1 = n\n",
    "                        else:\n",
    "                            node2 = node1\n",
    "                            node1 = n\n",
    "                            if (node2, node1) in edges_cycles:\n",
    "                                idx = edges_cycles.index((node2, node1))\n",
    "                                edges_width[idx] += 1\n",
    "                            else:\n",
    "                                edges_cycles.append((node2,node1))\n",
    "                                edges_width.append(1)\n",
    "\n",
    "    # 将列表转换为NumPy数组\n",
    "    edges_width = np.array(edges_width)\n",
    "\n",
    "    # 对数组进行正则化\n",
    "    edges_width = 5.0*edges_width / np.sum(edges_width)\n",
    "\n",
    "    # 添加边\n",
    "    G_cycles.add_edges_from(edges_cycles)\n",
    "\n",
    "    # 确定节点位置布局\n",
    "    pos = nx.spring_layout(G_cycles)\n",
    "\n",
    "    # 绘制节点和边\n",
    "    nx.draw_networkx_nodes(G_cycles, pos, nodelist=node_suspect, node_color='red', node_size=25)\n",
    "    nx.draw_networkx_nodes(G_cycles, pos, nodelist=node_cycles, node_color='blue', node_size=25)\n",
    "    nx.draw_networkx_edges(G_cycles, pos, width=edges_width, arrowsize=2.5,connectionstyle='arc3,rad=0.2')    #, arrowstyle='->'\n",
    "\n",
    "    # 添加节点标签edges_width\n",
    "    nx.draw_networkx_labels(G_cycles, pos, font_size=2.5)\n",
    "\n",
    "    # 显示图形\n",
    "    if include is None:\n",
    "        plt.title(f'Cycles of length {length} ({node})', fontsize=9)\n",
    "    else:\n",
    "        plt.title(f'Cycles of length {length} ({node} and {include})', fontsize=9)\n",
    "\n",
    "    plt.axis('off')\n",
    "\n",
    "    text = f'Total:{cnt}\\n'\n",
    "    if include is not None:\n",
    "        text += f'Selected:{cnt_include}\\n'\n",
    "        text += f'Proportion:{1.0*cnt_include/cnt:.4f}'\n",
    "    print(text)\n",
    "    plt.text(-0.84, 0.8, text, fontsize=7)\n",
    "\n",
    "    if node in suspects:\n",
    "        if include is None:\n",
    "            plt.savefig(f\"Graph\\{node}\\length{length}({node}).pdf\")\n",
    "        else:\n",
    "            plt.savefig(f\"Graph\\{node}\\length{length}({node} and {include}).pdf\")\n",
    "    else:\n",
    "        if include is None:\n",
    "            plt.savefig(f\"Graph\\Others\\{node}\\length{length}({node}).pdf\")\n",
    "        else:\n",
    "            plt.savefig(f\"Graph\\Others\\{node}\\length{length}({node} and {include}).pdf\")\n",
    "\n",
    "    record['Total'] = cnt\n",
    "\n",
    "    with open(f'Graph\\Others\\{node}\\Frequency\\length{length}({node}).json', 'w') as file:\n",
    "        json.dump(record, file)\n",
    "\n",
    "    plt.show()"
   ],
   "metadata": {
    "collapsed": false
   }
  },
  {
   "cell_type": "code",
   "execution_count": null,
   "outputs": [],
   "source": [
    "# for i in range(4,7):\n",
    "#      draw_cycles(G, suspects[3], i)   'Spanish Shrimp  Carriers', '341411'  , include='435054320'\n",
    "for i in range(3, 4):\n",
    "    draw_cycles(G, '7775', i)"
   ],
   "metadata": {
    "collapsed": false
   }
  },
  {
   "cell_type": "markdown",
   "source": [
    "## 被环经过的次数最多的前四个点"
   ],
   "metadata": {
    "collapsed": false
   }
  },
  {
   "cell_type": "code",
   "execution_count": null,
   "outputs": [],
   "source": [
    "def find_some(node, length):\n",
    "    with open(f\"Graph\\Others\\{node}\\Frequency\\length{length}({node}).json\", 'r') as file:\n",
    "        my_dict = json.load(file)\n",
    "\n",
    "    # 找到字典值的第二最大值和对应的键\n",
    "    sorted_values = sorted(my_dict.values(), reverse=True)\n",
    "    selected = {}\n",
    "    for key, value in my_dict.items():\n",
    "        for i in range(0,5):\n",
    "            if value == sorted_values[i]:\n",
    "                if sorted_values[i] not in selected.keys():\n",
    "                    selected[sorted_values[i]] = []\n",
    "                selected[sorted_values[i]].append(key)\n",
    "\n",
    "    # 将列表保存到文本文件\n",
    "    with open(f'Graph\\Others\\{node}\\Top\\length{length}({node}).txt', 'w') as file:\n",
    "        for key, value in selected.items():\n",
    "            file.write(str(key) + ': ' + str(value) + '\\n')\n"
   ],
   "metadata": {
    "collapsed": false
   }
  },
  {
   "cell_type": "code",
   "execution_count": null,
   "outputs": [],
   "source": [
    "for i in range(6,8):\n",
    "    find_some('Patrick Cannon', i)"
   ],
   "metadata": {
    "collapsed": false
   }
  },
  {
   "cell_type": "markdown",
   "source": [
    "## 同类型重边中统计环"
   ],
   "metadata": {
    "collapsed": false
   }
  },
  {
   "cell_type": "code",
   "execution_count": null,
   "outputs": [],
   "source": [
    "import csv\n",
    "\n",
    "edges_selected = set()\n",
    "node_s = set()\n",
    "# 打开 CSV 文件\n",
    "with open('multiedge_o_p.csv', 'r') as file:\n",
    "    # 创建 CSV 读取器\n",
    "    reader = csv.reader(file)\n",
    "    next(reader)\n",
    "    # 遍历每一行数据\n",
    "    for row in reader:\n",
    "        # 在这里处理每一行数据\n",
    "        edges_selected.add((row[1],row[2]))\n",
    "        edges_selected.add((row[2],row[1]))\n",
    "        node_s.add(row[1])\n",
    "        node_s.add(row[2])"
   ],
   "metadata": {
    "collapsed": false
   }
  },
  {
   "cell_type": "code",
   "execution_count": null,
   "outputs": [],
   "source": [
    "edges_selected = list(edges_selected)\n",
    "\n",
    "G_test = nx.DiGraph()\n",
    "\n",
    "G_test.add_edges_from(edges_selected)\n",
    "\n",
    "pos = nx.spring_layout(G_test)   # random_layout、circular_layout、shell_layout、spring_layout\n",
    "\n",
    "nx.draw_networkx_nodes(G_test, pos=pos, node_size=0.5)\n",
    "\n",
    "nx.draw_networkx_labels(G_test, pos=pos, font_size=1.5)\n",
    "\n",
    "nx.draw_networkx_edges(G_test, pos=pos, width=0.05, edge_color='blue', arrowsize=3, connectionstyle='arc3,rad=0.1')\n",
    "\n",
    "plt.axis('off')\n",
    "\n",
    "plt.title('Graph of multi_edges(_o_p)', fontsize=9)\n",
    "\n",
    "text = f'Total:{len(G_test.nodes)}\\n'\n",
    "\n",
    "plt.text(-1.1, 0.85, text, fontsize=5)\n",
    "\n",
    "plt.savefig(f'Cycle_multi_edges\\Graph(_o_p).pdf')\n",
    "\n",
    "plt.show()"
   ],
   "metadata": {
    "collapsed": false
   }
  },
  {
   "cell_type": "code",
   "execution_count": null,
   "outputs": [],
   "source": [
    "# 查找所有环\n",
    "cycles = nx.simple_cycles(G_test)\n",
    "\n",
    "length = 3     #指定环长度\n",
    "cnt_selected = 0\n",
    "record_c = {}\n",
    "# 打印所有环\n",
    "for cycle in cycles:\n",
    "    if len(cycle) == length:\n",
    "        cnt_selected += 1\n",
    "        #print(cycle)\n",
    "        record_c[cnt_selected] = cycle\n",
    "\n",
    "print(f\"Total:{cnt_selected}\")\n",
    "\n",
    "with open(f'Cycle_multi_edges\\length{length}_o_p.txt', 'w') as file:\n",
    "    for key, value in record_c.items():\n",
    "        file.write(str(key) + ': ' + str(value) + '\\n')"
   ],
   "metadata": {
    "collapsed": false
   }
  },
  {
   "cell_type": "code",
   "execution_count": null,
   "outputs": [],
   "source": [
    "# with open(f'Cycle_in_multi_edges\\length3_o_p_ship.json', 'w') as file:\n",
    "#     json.dump(record_c, file)"
   ],
   "metadata": {
    "collapsed": false
   }
  }
 ],
 "metadata": {
  "kernelspec": {
   "display_name": "Python 3 (ipykernel)",
   "language": "python",
   "name": "python3"
  },
  "language_info": {
   "codemirror_mode": {
    "name": "ipython",
    "version": 3
   },
   "file_extension": ".py",
   "mimetype": "text/x-python",
   "name": "python",
   "nbconvert_exporter": "python",
   "pygments_lexer": "ipython3",
   "version": "3.9.13"
  }
 },
 "nbformat": 4,
 "nbformat_minor": 1
}
